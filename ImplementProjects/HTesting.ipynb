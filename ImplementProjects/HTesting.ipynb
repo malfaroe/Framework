{
 "cells": [
  {
   "cell_type": "code",
   "execution_count": 1,
   "metadata": {},
   "outputs": [],
   "source": [
    "import pandas as pd"
   ]
  },
  {
   "cell_type": "code",
   "execution_count": 2,
   "metadata": {},
   "outputs": [],
   "source": [
    "df = pd.read_csv(\"Advertising.csv\", index_col = 0)"
   ]
  },
  {
   "cell_type": "code",
   "execution_count": 3,
   "metadata": {},
   "outputs": [],
   "source": [
    "df = df[[\"TV\", \"Sales\"]]"
   ]
  },
  {
   "cell_type": "code",
   "execution_count": 4,
   "metadata": {},
   "outputs": [],
   "source": [
    "y = df.Sales\n",
    "X = df.TV"
   ]
  },
  {
   "cell_type": "code",
   "execution_count": 5,
   "metadata": {},
   "outputs": [
    {
     "name": "stdout",
     "output_type": "stream",
     "text": [
      "Beta_0: 7.1196\n",
      "Beta_1: 0.0465\n",
      "R2_score: 0.677\n"
     ]
    }
   ],
   "source": [
    "import pandas as pd\n",
    "import numpy as np\n",
    "from sklearn.metrics import accuracy_score\n",
    "from sklearn.metrics import mean_squared_error \n",
    "\n",
    "\n",
    "from sklearn.model_selection import train_test_split\n",
    "from sklearn.preprocessing import StandardScaler\n",
    "from sklearn.datasets import make_regression\n",
    "from sklearn.metrics import r2_score\n",
    "\n",
    "import matplotlib.pyplot as plt\n",
    "\n",
    "\n",
    "\"\"\"Implementation of OLS for simple regression\"\"\"\n",
    "\n",
    "\n",
    "#Read data\n",
    "\n",
    "class OLS():\n",
    "    def __init__(self):\n",
    "        pass\n",
    "\n",
    "    #Fit\n",
    "    #Computes b0 and b1 using OLS\n",
    "    def fit(self, X,y):\n",
    "        beta_1 = np.sum((X - np.mean(X))*(y - np.mean(y)))/np.sum((X - np.mean(X))**2)\n",
    "        beta_0 = np.mean(y) - beta_1 * np.mean(X)\n",
    "\n",
    "        return np.round(beta_0, 4), np.round(beta_1, 4)\n",
    "\n",
    "    \n",
    "    def predict(self, X):\n",
    "        return (beta_0 + beta_1 * X)\n",
    "\n",
    "    def score(self, y_predict, y):\n",
    "        return np.round(r2_score(y_predict, y),3)\n",
    "\n",
    "\n",
    "\n",
    "if __name__ == \"__main__\":\n",
    "    df = pd.read_csv(\"Advertising.csv\", index_col = 0)   \n",
    "    df = df[[\"TV\", \"Sales\"]] \n",
    "    y = df.Sales\n",
    "    X = df.TV\n",
    "    \n",
    "    # X,y = make_regression(n_features= 1, n_samples=1000, n_informative= 1)\n",
    "    # scaler = StandardScaler()\n",
    "    # X = scaler.fit_transform(X)\n",
    "    X_train, X_test, y_train, y_test = train_test_split(X,y, test_size = 0.2,\n",
    "     random_state = 42)\n",
    "    ols = OLS()\n",
    "    beta_0, beta_1 = ols.fit(X_train,y_train)\n",
    "    print(\"Beta_0:\",beta_0)\n",
    "    print(\"Beta_1:\",beta_1)\n",
    "    \n",
    "    y_pred = ols.predict(X_test)\n",
    "    print(\"R2_score:\", ols.score(y_test,y_pred))"
   ]
  },
  {
   "cell_type": "code",
   "execution_count": 6,
   "metadata": {},
   "outputs": [],
   "source": [
    "y_pred = ols.predict(X)\n",
    "RSS = np.sum((y - y_pred)**2)\n",
    "RSE = np.sqrt(RSS/(df.shape[0] - 2)) #estimate of population standard deviation\n",
    "SE_b1= RSE/np.sqrt(np.sum((X - np.mean(X))**2))\n"
   ]
  },
  {
   "cell_type": "code",
   "execution_count": 25,
   "metadata": {},
   "outputs": [
    {
     "data": {
      "text/plain": [
       "17.27235642324626"
      ]
     },
     "execution_count": 25,
     "metadata": {},
     "output_type": "execute_result"
    }
   ],
   "source": [
    "import scipy.stats\n",
    "t_c = beta_1/SE_b1\n",
    "#p_value??\n",
    "pval = scipy.stats.t.sf(abs(t_c), df= 198)*2\n",
    "t_c"
   ]
  },
  {
   "cell_type": "code",
   "execution_count": 8,
   "metadata": {},
   "outputs": [
    {
     "data": {
      "text/plain": [
       "const    7.032594\n",
       "TV       0.047537\n",
       "dtype: float64"
      ]
     },
     "execution_count": 8,
     "metadata": {},
     "output_type": "execute_result"
    }
   ],
   "source": [
    "import statsmodels.api as sm\n",
    "X2 = sm.add_constant(X)\n",
    "model = sm.OLS(y,X2)\n",
    "results = model.fit()\n",
    "results.params"
   ]
  },
  {
   "cell_type": "code",
   "execution_count": 9,
   "metadata": {},
   "outputs": [
    {
     "data": {
      "text/plain": [
       "const    15.360275\n",
       "TV       17.667626\n",
       "dtype: float64"
      ]
     },
     "execution_count": 9,
     "metadata": {},
     "output_type": "execute_result"
    }
   ],
   "source": [
    "results.tvalues"
   ]
  },
  {
   "cell_type": "code",
   "execution_count": 10,
   "metadata": {},
   "outputs": [
    {
     "name": "stdout",
     "output_type": "stream",
     "text": [
      "                            OLS Regression Results                            \n",
      "==============================================================================\n",
      "Dep. Variable:                  Sales   R-squared:                       0.612\n",
      "Model:                            OLS   Adj. R-squared:                  0.610\n",
      "Method:                 Least Squares   F-statistic:                     312.1\n",
      "Date:                Tue, 02 Feb 2021   Prob (F-statistic):           1.47e-42\n",
      "Time:                        17:03:20   Log-Likelihood:                -519.05\n",
      "No. Observations:                 200   AIC:                             1042.\n",
      "Df Residuals:                     198   BIC:                             1049.\n",
      "Df Model:                           1                                         \n",
      "Covariance Type:            nonrobust                                         \n",
      "==============================================================================\n",
      "                 coef    std err          t      P>|t|      [0.025      0.975]\n",
      "------------------------------------------------------------------------------\n",
      "const          7.0326      0.458     15.360      0.000       6.130       7.935\n",
      "TV             0.0475      0.003     17.668      0.000       0.042       0.053\n",
      "==============================================================================\n",
      "Omnibus:                        0.531   Durbin-Watson:                   1.935\n",
      "Prob(Omnibus):                  0.767   Jarque-Bera (JB):                0.669\n",
      "Skew:                          -0.089   Prob(JB):                        0.716\n",
      "Kurtosis:                       2.779   Cond. No.                         338.\n",
      "==============================================================================\n",
      "\n",
      "Warnings:\n",
      "[1] Standard Errors assume that the covariance matrix of the errors is correctly specified.\n"
     ]
    }
   ],
   "source": [
    "print(results.summary())"
   ]
  },
  {
   "cell_type": "code",
   "execution_count": 11,
   "metadata": {},
   "outputs": [
    {
     "data": {
      "text/plain": [
       "0.611875050850071"
      ]
     },
     "execution_count": 11,
     "metadata": {},
     "output_type": "execute_result"
    }
   ],
   "source": [
    "results.rsquared"
   ]
  },
  {
   "cell_type": "code",
   "execution_count": null,
   "metadata": {},
   "outputs": [],
   "source": []
  },
  {
   "cell_type": "code",
   "execution_count": 12,
   "metadata": {},
   "outputs": [
    {
     "data": {
      "text/plain": [
       "1      17.81925\n",
       "2       9.18885\n",
       "3       7.91940\n",
       "4      14.16435\n",
       "5      15.52680\n",
       "         ...   \n",
       "196     8.89590\n",
       "197    11.49990\n",
       "198    15.35010\n",
       "199    20.30700\n",
       "200    17.91225\n",
       "Name: TV, Length: 200, dtype: float64"
      ]
     },
     "execution_count": 12,
     "metadata": {},
     "output_type": "execute_result"
    }
   ],
   "source": [
    "y_pred"
   ]
  },
  {
   "cell_type": "code",
   "execution_count": null,
   "metadata": {},
   "outputs": [],
   "source": []
  }
 ],
 "metadata": {
  "kernelspec": {
   "display_name": "Python 3",
   "language": "python",
   "name": "python3"
  },
  "language_info": {
   "codemirror_mode": {
    "name": "ipython",
    "version": 3
   },
   "file_extension": ".py",
   "mimetype": "text/x-python",
   "name": "python",
   "nbconvert_exporter": "python",
   "pygments_lexer": "ipython3",
   "version": "3.7.7"
  }
 },
 "nbformat": 4,
 "nbformat_minor": 4
}
