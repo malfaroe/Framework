{
 "cells": [
  {
   "cell_type": "code",
   "execution_count": 1,
   "metadata": {},
   "outputs": [],
   "source": [
    "import pandas as pd"
   ]
  },
  {
   "cell_type": "code",
   "execution_count": 2,
   "metadata": {},
   "outputs": [],
   "source": [
    "df = pd.read_csv(\"Advertising.csv\", index_col = 0)"
   ]
  },
  {
   "cell_type": "code",
   "execution_count": 4,
   "metadata": {},
   "outputs": [],
   "source": [
    "df = df[[\"TV\", \"Sales\"]]"
   ]
  },
  {
   "cell_type": "code",
   "execution_count": 6,
   "metadata": {},
   "outputs": [],
   "source": [
    "y = df.Sales\n",
    "X = df.TV"
   ]
  },
  {
   "cell_type": "code",
   "execution_count": 9,
   "metadata": {},
   "outputs": [
    {
     "ename": "SyntaxError",
     "evalue": "invalid syntax (<ipython-input-9-6a56c5865120>, line 54)",
     "output_type": "error",
     "traceback": [
      "\u001b[1;36m  File \u001b[1;32m\"<ipython-input-9-6a56c5865120>\"\u001b[1;36m, line \u001b[1;32m54\u001b[0m\n\u001b[1;33m    print(\"Beta_0:\"beta_0)\u001b[0m\n\u001b[1;37m                        ^\u001b[0m\n\u001b[1;31mSyntaxError\u001b[0m\u001b[1;31m:\u001b[0m invalid syntax\n"
     ]
    }
   ],
   "source": [
    "import pandas as pd\n",
    "import numpy as np\n",
    "from sklearn.metrics import accuracy_score\n",
    "from sklearn.metrics import mean_squared_error \n",
    "\n",
    "\n",
    "from sklearn.model_selection import train_test_split\n",
    "from sklearn.preprocessing import StandardScaler\n",
    "from sklearn.datasets import make_regression\n",
    "from sklearn.metrics import r2_score\n",
    "\n",
    "import matplotlib.pyplot as plt\n",
    "\n",
    "\n",
    "\"\"\"Implementation of OLS for simple regression\"\"\"\n",
    "\n",
    "\n",
    "#Read data\n",
    "\n",
    "class OLS():\n",
    "    def __init__(self):\n",
    "        pass\n",
    "\n",
    "    #Fit\n",
    "    #Computes b0 and b1 using OLS\n",
    "    def fit(self, X,y):\n",
    "        beta_1 = np.sum((X - np.mean(X))*(y - np.mean(y)))/np.sum((X - np.mean(X))**2)\n",
    "        beta_0 = np.mean(y) - beta_1 * np.mean(X)\n",
    "\n",
    "        return np.round(beta_0, 4), np.round(beta_1, 4)\n",
    "\n",
    "    \n",
    "    def predict(self, X):\n",
    "        return (beta_0 + beta_1 * X)\n",
    "\n",
    "    def score(self, y_predict, y):\n",
    "        return np.round(r2_score(y_predict, y),3)\n",
    "\n",
    "\n",
    "\n",
    "if __name__ == \"__main__\":\n",
    "    df = pd.read_csv(\"Advertising.csv\", index_col = 0)   \n",
    "    df = df[[\"TV\", \"Sales\"]] \n",
    "    y = df.Sales\n",
    "    X = df.TV\n",
    "    \n",
    "    # X,y = make_regression(n_features= 1, n_samples=1000, n_informative= 1)\n",
    "    # scaler = StandardScaler()\n",
    "    # X = scaler.fit_transform(X)\n",
    "    X_train, X_test, y_train, y_test = train_test_split(X,y, test_size = 0.2,\n",
    "     random_state = 42)\n",
    "    ols = OLS()\n",
    "    beta_0, beta_1 = ols.fit(X_train,y_train)\n",
    "    print(\"Beta_0:\",beta_0)\n",
    "    print(\"Beta_1:\",beta_1)\n",
    "    \n",
    "    y_pred = ols.predict(X_test)\n",
    "    print(\"R2_score:\", ols.score(y_test,y_pred))"
   ]
  },
  {
   "cell_type": "code",
   "execution_count": null,
   "metadata": {},
   "outputs": [],
   "source": []
  }
 ],
 "metadata": {
  "kernelspec": {
   "display_name": "Python 3",
   "language": "python",
   "name": "python3"
  },
  "language_info": {
   "codemirror_mode": {
    "name": "ipython",
    "version": 3
   },
   "file_extension": ".py",
   "mimetype": "text/x-python",
   "name": "python",
   "nbconvert_exporter": "python",
   "pygments_lexer": "ipython3",
   "version": "3.7.7"
  }
 },
 "nbformat": 4,
 "nbformat_minor": 4
}
