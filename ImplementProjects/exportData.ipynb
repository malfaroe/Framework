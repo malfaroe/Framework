{
 "cells": [
  {
   "cell_type": "code",
   "execution_count": 1,
   "metadata": {},
   "outputs": [],
   "source": [
    "import pandas as pd\n",
    "import numpy as np"
   ]
  },
  {
   "cell_type": "code",
   "execution_count": 2,
   "metadata": {},
   "outputs": [],
   "source": [
    "#Read data\n",
    "df = pd.read_excel(\"exportdata.xlsx\")"
   ]
  },
  {
   "cell_type": "code",
   "execution_count": 3,
   "metadata": {},
   "outputs": [
    {
     "data": {
      "text/plain": [
       "(431411, 22)"
      ]
     },
     "execution_count": 3,
     "metadata": {},
     "output_type": "execute_result"
    }
   ],
   "source": [
    "df.shape"
   ]
  },
  {
   "cell_type": "code",
   "execution_count": 4,
   "metadata": {},
   "outputs": [],
   "source": [
    "df20 = df[df[\"Año\"] == 2020]"
   ]
  },
  {
   "cell_type": "code",
   "execution_count": 5,
   "metadata": {},
   "outputs": [
    {
     "data": {
      "text/plain": [
       "(98220, 22)"
      ]
     },
     "execution_count": 5,
     "metadata": {},
     "output_type": "execute_result"
    }
   ],
   "source": [
    "df20.shape"
   ]
  },
  {
   "cell_type": "code",
   "execution_count": 28,
   "metadata": {},
   "outputs": [],
   "source": [
    "#Products and markets\n",
    "frozen = [8111010, 8111090, 8112019, 8112021, 8112029, 8119011, 8119019]\n",
    "fresh = [8104021, 8104029]\n",
    "all_codes = frozen + fresh\n",
    "\n",
    "markets = ['Australia','Malasia', 'Corea del Sur',  'Indonesia','Vietnam','Tailandia']\n"
   ]
  },
  {
   "cell_type": "code",
   "execution_count": 29,
   "metadata": {},
   "outputs": [],
   "source": [
    "def report(df, codes):\n",
    "    df_rep = df[df[\"Código Arancelario\"].isin(all_codes)]\n",
    "    new = df_rep.groupby([\"Código Arancelario\", \"Nombre del Producto\", \"País de Destino\"])[\"Valor Exportado en US$ FOB\", \"Cantidad Exportada\"].sum()\n",
    "    return new"
   ]
  },
  {
   "cell_type": "code",
   "execution_count": 30,
   "metadata": {},
   "outputs": [
    {
     "data": {
      "text/plain": [
       "(233, 22)"
      ]
     },
     "execution_count": 30,
     "metadata": {},
     "output_type": "execute_result"
    }
   ],
   "source": [
    "#ARCHIVO PAIS BERRIES 2020\n",
    "#df_profile = data de todas las exportaciones Chile de berries frescos y congelados del año 2020 a los mercados de la rueda\n",
    "df_profile = df20[(df20[\"Código Arancelario\"].isin(all_codes)) & (df20[\"País de Destino\"].isin(markets))]\n",
    "df_profile.shape"
   ]
  },
  {
   "cell_type": "code",
   "execution_count": 37,
   "metadata": {},
   "outputs": [
    {
     "name": "stderr",
     "output_type": "stream",
     "text": [
      "C:\\Users\\malfaro\\Anaconda3\\lib\\site-packages\\ipykernel_launcher.py:2: SettingWithCopyWarning: \n",
      "A value is trying to be set on a copy of a slice from a DataFrame.\n",
      "Try using .loc[row_indexer,col_indexer] = value instead\n",
      "\n",
      "See the caveats in the documentation: https://pandas.pydata.org/pandas-docs/stable/user_guide/indexing.html#returning-a-view-versus-a-copy\n",
      "  \n",
      "C:\\Users\\malfaro\\Anaconda3\\lib\\site-packages\\ipykernel_launcher.py:5: SettingWithCopyWarning: \n",
      "A value is trying to be set on a copy of a slice from a DataFrame.\n",
      "Try using .loc[row_indexer,col_indexer] = value instead\n",
      "\n",
      "See the caveats in the documentation: https://pandas.pydata.org/pandas-docs/stable/user_guide/indexing.html#returning-a-view-versus-a-copy\n",
      "  \"\"\"\n"
     ]
    }
   ],
   "source": [
    "#Creo una nueva columna para el tipo de producto: fresco/congelado\n",
    "df_profile[\"Rubro\"] = df_profile[\"MacroSector\"]\n",
    "\n",
    "# df_profile[\"Rubro\"] = df_profile[\"Rubro\"].apply(lambda x:\"Fresco\" if df_profile[\"Código Arancelario\"].isin(fresh) else \"Congelado\")\n",
    "df_profile[\"Rubro\"] = np.where(df_profile[\"Código Arancelario\"].isin(fresh), \"Fresco\", \"Congelado\")"
   ]
  },
  {
   "cell_type": "code",
   "execution_count": 41,
   "metadata": {},
   "outputs": [
    {
     "name": "stderr",
     "output_type": "stream",
     "text": [
      "C:\\Users\\malfaro\\Anaconda3\\lib\\site-packages\\ipykernel_launcher.py:3: FutureWarning: Indexing with multiple keys (implicitly converted to a tuple of keys) will be deprecated, use a list instead.\n",
      "  This is separate from the ipykernel package so we can avoid doing imports until\n"
     ]
    }
   ],
   "source": [
    "#Exportaciones por producto a mercados objetivo\n",
    "df_markets = df_profile.groupby([\"País de Destino\", \"Código Arancelario\", \"Nombre del Producto\", \n",
    "                   ])[\"Valor Exportado en US$ FOB\", \"Cantidad Exportada\"].sum()\n",
    "\n",
    "df_markets.to_excel(\"markets.xlsx\")"
   ]
  },
  {
   "cell_type": "code",
   "execution_count": 42,
   "metadata": {},
   "outputs": [
    {
     "name": "stderr",
     "output_type": "stream",
     "text": [
      "C:\\Users\\malfaro\\Anaconda3\\lib\\site-packages\\ipykernel_launcher.py:4: FutureWarning: Indexing with multiple keys (implicitly converted to a tuple of keys) will be deprecated, use a list instead.\n",
      "  after removing the cwd from sys.path.\n"
     ]
    }
   ],
   "source": [
    "#Empresas exportadoras por región y producto\n",
    "df_empresas = df_profile.groupby([\"Región de Origen Producto (Aduana)\", \"Razón Social Exportador\",\n",
    "                    \"Código Arancelario\", \"Nombre del Producto\", \n",
    "                   ])[\"Valor Exportado en US$ FOB\", \"Cantidad Exportada\", \"Rubro\", \"Tamaño Empresa Exportadora\"].sum()\n",
    "\n",
    "df_empresas.to_excel(\"companies.xlsx\")\n",
    "\n"
   ]
  },
  {
   "cell_type": "code",
   "execution_count": 43,
   "metadata": {},
   "outputs": [],
   "source": [
    "#Enpresas potenciales en la macrozona\n",
    "df_profile[\"Región de Origen Producto (Aduana)\"].unique()\n",
    "macrozona = ['Biobío', 'La Araucanía',  'Maule',\n",
    "        'Ñuble']"
   ]
  },
  {
   "cell_type": "code",
   "execution_count": 44,
   "metadata": {},
   "outputs": [],
   "source": [
    "df_emp_macrozona = df_profile[df_profile[\"Región de Origen Producto (Aduana)\"].isin(macrozona)]"
   ]
  },
  {
   "cell_type": "code",
   "execution_count": 45,
   "metadata": {},
   "outputs": [
    {
     "data": {
      "text/html": [
       "<div>\n",
       "<style scoped>\n",
       "    .dataframe tbody tr th:only-of-type {\n",
       "        vertical-align: middle;\n",
       "    }\n",
       "\n",
       "    .dataframe tbody tr th {\n",
       "        vertical-align: top;\n",
       "    }\n",
       "\n",
       "    .dataframe thead th {\n",
       "        text-align: right;\n",
       "    }\n",
       "</style>\n",
       "<table border=\"1\" class=\"dataframe\">\n",
       "  <thead>\n",
       "    <tr style=\"text-align: right;\">\n",
       "      <th></th>\n",
       "      <th>Año</th>\n",
       "      <th>Región de Origen Producto (Aduana)</th>\n",
       "      <th>Macrozona \\nProChile</th>\n",
       "      <th>Rut Exportador</th>\n",
       "      <th>Razón Social Exportador</th>\n",
       "      <th>Tamaño Empresa Exportadora</th>\n",
       "      <th>País de Destino</th>\n",
       "      <th>Zona Geográfica de Destino</th>\n",
       "      <th>Acuerdo Comercial</th>\n",
       "      <th>APEC</th>\n",
       "      <th>...</th>\n",
       "      <th>Orgánico / No Orgánico</th>\n",
       "      <th>MacroSector</th>\n",
       "      <th>Sector</th>\n",
       "      <th>Subsector</th>\n",
       "      <th>Código Arancelario</th>\n",
       "      <th>Nombre del Producto</th>\n",
       "      <th>Valor Exportado en US$ FOB</th>\n",
       "      <th>Cantidad Exportada</th>\n",
       "      <th>Unidad de Medida</th>\n",
       "      <th>Rubro</th>\n",
       "    </tr>\n",
       "  </thead>\n",
       "  <tbody>\n",
       "    <tr>\n",
       "      <th>335734</th>\n",
       "      <td>2020</td>\n",
       "      <td>Biobío</td>\n",
       "      <td>Centro-Sur</td>\n",
       "      <td>0760099287</td>\n",
       "      <td>Naturandina Chile S.A.</td>\n",
       "      <td>Grande</td>\n",
       "      <td>Corea del Sur</td>\n",
       "      <td>Asia y Oceanía</td>\n",
       "      <td>Corea del Sur</td>\n",
       "      <td>APEC</td>\n",
       "      <td>...</td>\n",
       "      <td>No Orgánico</td>\n",
       "      <td>Agropecuarios</td>\n",
       "      <td>Agroindustria</td>\n",
       "      <td>Arándanos congelados</td>\n",
       "      <td>8119019</td>\n",
       "      <td>Los demás arándanos sin cocer o cocidos en agu...</td>\n",
       "      <td>101017.38</td>\n",
       "      <td>42111.73</td>\n",
       "      <td>KN</td>\n",
       "      <td>Congelado</td>\n",
       "    </tr>\n",
       "    <tr>\n",
       "      <th>335735</th>\n",
       "      <td>2020</td>\n",
       "      <td>Biobío</td>\n",
       "      <td>Centro-Sur</td>\n",
       "      <td>0760099287</td>\n",
       "      <td>Naturandina Chile S.A.</td>\n",
       "      <td>Grande</td>\n",
       "      <td>Corea del Sur</td>\n",
       "      <td>Asia y Oceanía</td>\n",
       "      <td>Corea del Sur</td>\n",
       "      <td>APEC</td>\n",
       "      <td>...</td>\n",
       "      <td>No Orgánico</td>\n",
       "      <td>Agropecuarios</td>\n",
       "      <td>Agroindustria</td>\n",
       "      <td>Frambuesas congeladas</td>\n",
       "      <td>8112029</td>\n",
       "      <td>Las demás frambuesas sin cocer o cocidas en ag...</td>\n",
       "      <td>41827.50</td>\n",
       "      <td>11350.00</td>\n",
       "      <td>KN</td>\n",
       "      <td>Congelado</td>\n",
       "    </tr>\n",
       "    <tr>\n",
       "      <th>335737</th>\n",
       "      <td>2020</td>\n",
       "      <td>Biobío</td>\n",
       "      <td>Centro-Sur</td>\n",
       "      <td>0760099287</td>\n",
       "      <td>Naturandina Chile S.A.</td>\n",
       "      <td>Grande</td>\n",
       "      <td>Corea del Sur</td>\n",
       "      <td>Asia y Oceanía</td>\n",
       "      <td>Corea del Sur</td>\n",
       "      <td>APEC</td>\n",
       "      <td>...</td>\n",
       "      <td>No Orgánico</td>\n",
       "      <td>Agropecuarios</td>\n",
       "      <td>Agroindustria</td>\n",
       "      <td>Moras congeladas</td>\n",
       "      <td>8112019</td>\n",
       "      <td>Las demás moras sin cocer o cocidas en agua o ...</td>\n",
       "      <td>18715.00</td>\n",
       "      <td>6805.00</td>\n",
       "      <td>KN</td>\n",
       "      <td>Congelado</td>\n",
       "    </tr>\n",
       "  </tbody>\n",
       "</table>\n",
       "<p>3 rows × 23 columns</p>\n",
       "</div>"
      ],
      "text/plain": [
       "         Año Región de Origen Producto (Aduana) Macrozona \\nProChile  \\\n",
       "335734  2020                             Biobío           Centro-Sur   \n",
       "335735  2020                             Biobío           Centro-Sur   \n",
       "335737  2020                             Biobío           Centro-Sur   \n",
       "\n",
       "       Rut Exportador Razón Social Exportador Tamaño Empresa Exportadora  \\\n",
       "335734     0760099287  Naturandina Chile S.A.                     Grande   \n",
       "335735     0760099287  Naturandina Chile S.A.                     Grande   \n",
       "335737     0760099287  Naturandina Chile S.A.                     Grande   \n",
       "\n",
       "       País de Destino Zona Geográfica de Destino Acuerdo Comercial  APEC  \\\n",
       "335734   Corea del Sur             Asia y Oceanía     Corea del Sur  APEC   \n",
       "335735   Corea del Sur             Asia y Oceanía     Corea del Sur  APEC   \n",
       "335737   Corea del Sur             Asia y Oceanía     Corea del Sur  APEC   \n",
       "\n",
       "        ... Orgánico / No Orgánico    MacroSector         Sector  \\\n",
       "335734  ...            No Orgánico  Agropecuarios  Agroindustria   \n",
       "335735  ...            No Orgánico  Agropecuarios  Agroindustria   \n",
       "335737  ...            No Orgánico  Agropecuarios  Agroindustria   \n",
       "\n",
       "                    Subsector Código Arancelario  \\\n",
       "335734   Arándanos congelados            8119019   \n",
       "335735  Frambuesas congeladas            8112029   \n",
       "335737       Moras congeladas            8112019   \n",
       "\n",
       "                                      Nombre del Producto  \\\n",
       "335734  Los demás arándanos sin cocer o cocidos en agu...   \n",
       "335735  Las demás frambuesas sin cocer o cocidas en ag...   \n",
       "335737  Las demás moras sin cocer o cocidas en agua o ...   \n",
       "\n",
       "       Valor Exportado en US$ FOB  Cantidad Exportada  Unidad de Medida  \\\n",
       "335734                  101017.38            42111.73                KN   \n",
       "335735                   41827.50            11350.00                KN   \n",
       "335737                   18715.00             6805.00                KN   \n",
       "\n",
       "            Rubro  \n",
       "335734  Congelado  \n",
       "335735  Congelado  \n",
       "335737  Congelado  \n",
       "\n",
       "[3 rows x 23 columns]"
      ]
     },
     "execution_count": 45,
     "metadata": {},
     "output_type": "execute_result"
    }
   ],
   "source": [
    "df_emp_macrozona.head(3)"
   ]
  },
  {
   "cell_type": "code",
   "execution_count": 46,
   "metadata": {},
   "outputs": [],
   "source": [
    "df_macro= df_emp_macrozona.groupby([\"Región de Origen Producto (Aduana)\", \"Razón Social Exportador\",\n",
    "                    \"Código Arancelario\", \"Nombre del Producto\", \n",
    "                   ])[[ \"Rubro\", \"Tamaño Empresa Exportadora\"]].sum()"
   ]
  },
  {
   "cell_type": "code",
   "execution_count": 48,
   "metadata": {},
   "outputs": [
    {
     "data": {
      "text/html": [
       "<div>\n",
       "<style scoped>\n",
       "    .dataframe tbody tr th:only-of-type {\n",
       "        vertical-align: middle;\n",
       "    }\n",
       "\n",
       "    .dataframe tbody tr th {\n",
       "        vertical-align: top;\n",
       "    }\n",
       "\n",
       "    .dataframe thead th {\n",
       "        text-align: right;\n",
       "    }\n",
       "</style>\n",
       "<table border=\"1\" class=\"dataframe\">\n",
       "  <thead>\n",
       "    <tr style=\"text-align: right;\">\n",
       "      <th></th>\n",
       "      <th></th>\n",
       "      <th></th>\n",
       "      <th></th>\n",
       "      <th>Rubro</th>\n",
       "      <th>Tamaño Empresa Exportadora</th>\n",
       "    </tr>\n",
       "    <tr>\n",
       "      <th>Región de Origen Producto (Aduana)</th>\n",
       "      <th>Razón Social Exportador</th>\n",
       "      <th>Código Arancelario</th>\n",
       "      <th>Nombre del Producto</th>\n",
       "      <th></th>\n",
       "      <th></th>\n",
       "    </tr>\n",
       "  </thead>\n",
       "  <tbody>\n",
       "    <tr>\n",
       "      <th rowspan=\"5\" valign=\"top\">Biobío</th>\n",
       "      <th>Agroindustria San Francisco Ltda.</th>\n",
       "      <th>8119019</th>\n",
       "      <th>Los demás arándanos sin cocer o cocidos en agua o vapor, incluso con adición de azúcar u otro edulcorante, congelados</th>\n",
       "      <td>Congelado</td>\n",
       "      <td>Grande</td>\n",
       "    </tr>\n",
       "    <tr>\n",
       "      <th rowspan=\"4\" valign=\"top\">Alimentos Y Frutos S.A.</th>\n",
       "      <th>8111090</th>\n",
       "      <th>Las demás frutillas (fresas)* sin cocer o cocidas en agua o vapor, incluso con adición de azúcar u otro edulcorante, congeladas</th>\n",
       "      <td>CongeladoCongeladoCongelado</td>\n",
       "      <td>GrandeGrandeGrande</td>\n",
       "    </tr>\n",
       "    <tr>\n",
       "      <th>8112019</th>\n",
       "      <th>Las demás moras sin cocer o cocidas en agua o vapor, incluso con adición de azúcar u otro edulcorante, congeladas</th>\n",
       "      <td>Congelado</td>\n",
       "      <td>Grande</td>\n",
       "    </tr>\n",
       "    <tr>\n",
       "      <th>8112021</th>\n",
       "      <th>Frambuesas orgánicas sin cocer o cocidas en agua o vapor, incluso con adición de azúcar u otro edulcorante, congeladas</th>\n",
       "      <td>Congelado</td>\n",
       "      <td>Grande</td>\n",
       "    </tr>\n",
       "    <tr>\n",
       "      <th>8112029</th>\n",
       "      <th>Las demás frambuesas sin cocer o cocidas en agua o vapor, incluso con adición de azúcar u otro edulcorante, congeladas</th>\n",
       "      <td>Congelado</td>\n",
       "      <td>Grande</td>\n",
       "    </tr>\n",
       "    <tr>\n",
       "      <th>...</th>\n",
       "      <th>...</th>\n",
       "      <th>...</th>\n",
       "      <th>...</th>\n",
       "      <td>...</td>\n",
       "      <td>...</td>\n",
       "    </tr>\n",
       "    <tr>\n",
       "      <th rowspan=\"5\" valign=\"top\">Ñuble</th>\n",
       "      <th rowspan=\"3\" valign=\"top\">Fruticola Olmue S.P.A.</th>\n",
       "      <th>8112029</th>\n",
       "      <th>Las demás frambuesas sin cocer o cocidas en agua o vapor, incluso con adición de azúcar u otro edulcorante, congeladas</th>\n",
       "      <td>Congelado</td>\n",
       "      <td>Grande</td>\n",
       "    </tr>\n",
       "    <tr>\n",
       "      <th>8119011</th>\n",
       "      <th>Arándanos orgánicos sin cocer o cocidos en agua o vapor, incluso con adición de azúcar u otro edulcorante, congelados</th>\n",
       "      <td>Congelado</td>\n",
       "      <td>Grande</td>\n",
       "    </tr>\n",
       "    <tr>\n",
       "      <th>8119019</th>\n",
       "      <th>Los demás arándanos sin cocer o cocidos en agua o vapor, incluso con adición de azúcar u otro edulcorante, congelados</th>\n",
       "      <td>Congelado</td>\n",
       "      <td>Grande</td>\n",
       "    </tr>\n",
       "    <tr>\n",
       "      <th>Lafrut Exportaciones Agropecuarias Ltda.</th>\n",
       "      <th>8104029</th>\n",
       "      <th>Los demás arándanos azules o blueberry, frescos</th>\n",
       "      <td>Fresco</td>\n",
       "      <td>Grande</td>\n",
       "    </tr>\n",
       "    <tr>\n",
       "      <th>Naturandina Chile S.A.</th>\n",
       "      <th>8119019</th>\n",
       "      <th>Los demás arándanos sin cocer o cocidos en agua o vapor, incluso con adición de azúcar u otro edulcorante, congelados</th>\n",
       "      <td>Congelado</td>\n",
       "      <td>Grande</td>\n",
       "    </tr>\n",
       "  </tbody>\n",
       "</table>\n",
       "<p>127 rows × 2 columns</p>\n",
       "</div>"
      ],
      "text/plain": [
       "                                                                                                                                                                         Rubro  \\\n",
       "Región de Origen Producto (Aduana) Razón Social Exportador                  Código Arancelario Nombre del Producto                                                               \n",
       "Biobío                             Agroindustria San Francisco Ltda.        8119019            Los demás arándanos sin cocer o cocidos en agua...                    Congelado   \n",
       "                                   Alimentos Y Frutos S.A.                  8111090            Las demás frutillas (fresas)* sin cocer o cocid...  CongeladoCongeladoCongelado   \n",
       "                                                                            8112019            Las demás moras sin cocer o cocidas en agua o v...                    Congelado   \n",
       "                                                                            8112021            Frambuesas orgánicas sin cocer o cocidas en agu...                    Congelado   \n",
       "                                                                            8112029            Las demás frambuesas sin cocer o cocidas en agu...                    Congelado   \n",
       "...                                                                                                                                                                        ...   \n",
       "Ñuble                              Fruticola Olmue S.P.A.                   8112029            Las demás frambuesas sin cocer o cocidas en agu...                    Congelado   \n",
       "                                                                            8119011            Arándanos orgánicos sin cocer o cocidos en agua...                    Congelado   \n",
       "                                                                            8119019            Los demás arándanos sin cocer o cocidos en agua...                    Congelado   \n",
       "                                   Lafrut Exportaciones Agropecuarias Ltda. 8104029            Los demás arándanos azules o blueberry, frescos                          Fresco   \n",
       "                                   Naturandina Chile S.A.                   8119019            Los demás arándanos sin cocer o cocidos en agua...                    Congelado   \n",
       "\n",
       "                                                                                                                                                  Tamaño Empresa Exportadora  \n",
       "Región de Origen Producto (Aduana) Razón Social Exportador                  Código Arancelario Nombre del Producto                                                            \n",
       "Biobío                             Agroindustria San Francisco Ltda.        8119019            Los demás arándanos sin cocer o cocidos en agua...                     Grande  \n",
       "                                   Alimentos Y Frutos S.A.                  8111090            Las demás frutillas (fresas)* sin cocer o cocid...         GrandeGrandeGrande  \n",
       "                                                                            8112019            Las demás moras sin cocer o cocidas en agua o v...                     Grande  \n",
       "                                                                            8112021            Frambuesas orgánicas sin cocer o cocidas en agu...                     Grande  \n",
       "                                                                            8112029            Las demás frambuesas sin cocer o cocidas en agu...                     Grande  \n",
       "...                                                                                                                                                                      ...  \n",
       "Ñuble                              Fruticola Olmue S.P.A.                   8112029            Las demás frambuesas sin cocer o cocidas en agu...                     Grande  \n",
       "                                                                            8119011            Arándanos orgánicos sin cocer o cocidos en agua...                     Grande  \n",
       "                                                                            8119019            Los demás arándanos sin cocer o cocidos en agua...                     Grande  \n",
       "                                   Lafrut Exportaciones Agropecuarias Ltda. 8104029            Los demás arándanos azules o blueberry, frescos                        Grande  \n",
       "                                   Naturandina Chile S.A.                   8119019            Los demás arándanos sin cocer o cocidos en agua...                     Grande  \n",
       "\n",
       "[127 rows x 2 columns]"
      ]
     },
     "execution_count": 48,
     "metadata": {},
     "output_type": "execute_result"
    }
   ],
   "source": [
    "df_macro"
   ]
  },
  {
   "cell_type": "code",
   "execution_count": 27,
   "metadata": {},
   "outputs": [],
   "source": [
    "df_macro.to_excel(\"empresasMacrozona.xlsx\")"
   ]
  },
  {
   "cell_type": "code",
   "execution_count": null,
   "metadata": {},
   "outputs": [],
   "source": [
    "df_macro.columns"
   ]
  },
  {
   "cell_type": "code",
   "execution_count": null,
   "metadata": {},
   "outputs": [],
   "source": []
  }
 ],
 "metadata": {
  "kernelspec": {
   "display_name": "Python 3",
   "language": "python",
   "name": "python3"
  },
  "language_info": {
   "codemirror_mode": {
    "name": "ipython",
    "version": 3
   },
   "file_extension": ".py",
   "mimetype": "text/x-python",
   "name": "python",
   "nbconvert_exporter": "python",
   "pygments_lexer": "ipython3",
   "version": "3.7.7"
  }
 },
 "nbformat": 4,
 "nbformat_minor": 4
}
