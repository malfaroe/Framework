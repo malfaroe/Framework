{
 "cells": [
  {
   "cell_type": "code",
   "execution_count": 1,
   "metadata": {},
   "outputs": [],
   "source": [
    "##BUILDING AN STRUCTURE FOR RELIABLE, CLEAR AND REPRODUCIBLE EDA\n",
    "\n",
    "#Objectives:\n",
    "#1. Generate a pipeline of techniques for analyzing and getting the best dataset possible for modeling stage\n",
    "#2. Learn and incorporate all techniques I can find "
   ]
  },
  {
   "cell_type": "code",
   "execution_count": 2,
   "metadata": {},
   "outputs": [],
   "source": [
    "##Import libraries \n",
    "\n",
    "import pandas as pd\n",
    "import numpy as np\n",
    "import matplotlib.pyplot as plt\n",
    "import seaborn as sns\n",
    "import warnings\n",
    "warnings.filterwarnings(\"ignore\")\n",
    "from datetime import datetime, timedelta\n",
    "%matplotlib inline\n",
    "\n",
    "# import all libraries and dependencies for data visualization\n",
    "pd.options.display.float_format='{:.4f}'.format\n",
    "plt.rcParams['figure.figsize'] = [8,8]\n",
    "pd.set_option('display.max_columns', 350)\n",
    "pd.set_option('display.max_colwidth', -1) \n",
    "pd.set_option(\"display.max_rows\", 500)\n",
    "sns.set(style='darkgrid')\n",
    "import matplotlib.ticker as ticker\n",
    "import matplotlib.ticker as plticker\n",
    "\n",
    "\n",
    "# import all libraries and dependencies for machine learning\n",
    "from sklearn.model_selection import train_test_split\n",
    "from sklearn import preprocessing\n",
    "from sklearn.base import TransformerMixin\n",
    "from sklearn.model_selection import train_test_split\n",
    "from sklearn.preprocessing import MinMaxScaler\n",
    "from sklearn.preprocessing import OrdinalEncoder\n",
    "from sklearn.preprocessing import LabelEncoder\n",
    "from sklearn.preprocessing import OneHotEncoder\n",
    "from sklearn.preprocessing import RobustScaler \n",
    "from sklearn.preprocessing import StandardScaler\n",
    "\n",
    "\n",
    "from sklearn.compose import make_column_transformer\n",
    "\n",
    "\n",
    "import statsmodels.api as sm\n",
    "from sklearn.feature_selection import RFE\n",
    "from sklearn.linear_model import LinearRegression\n",
    "from sklearn.linear_model import LinearRegression, OrthogonalMatchingPursuit, Lasso, LassoLarsIC, ElasticNet, ElasticNetCV\n",
    "from statsmodels.stats.outliers_influence import variance_inflation_factor\n",
    "from sklearn.metrics import mean_squared_error, r2_score\n",
    "from sklearn.preprocessing import PolynomialFeatures\n",
    "from sklearn.feature_selection import f_regression, mutual_info_regression, SelectKBest, RFECV, SelectFromModel\n",
    "from sklearn.model_selection import train_test_split\n",
    "\n",
    "from scipy import stats\n",
    "from scipy.stats import norm, kurtosis, skew\n",
    "\n",
    "# Import specific libraries\n",
    "import statsmodels.api as sm\n",
    "from statsmodels.stats import diagnostic as diag\n",
    "from statsmodels.stats.outliers_influence import variance_inflation_factor\n",
    "\n",
    "import statsmodels.api as sm\n",
    "from statsmodels.stats.outliers_influence import variance_inflation_factor\n",
    "from sklearn.pipeline import Pipeline, make_pipeline\n",
    "from sklearn.preprocessing import RobustScaler, PolynomialFeatures, StandardScaler, LabelEncoder\n",
    "from sklearn.feature_selection import f_regression, mutual_info_regression, SelectKBest, RFECV, SelectFromModel\n",
    "from mlxtend.feature_selection import SequentialFeatureSelector as SFS\n",
    "from mlxtend.plotting import plot_sequential_feature_selection as plot_sfs\n",
    "from sklearn.feature_extraction import FeatureHasher\n",
    "from sklearn.decomposition import PCA, KernelPCA\n",
    "from sklearn.base import BaseEstimator, TransformerMixin, RegressorMixin, clone\n",
    "from sklearn.kernel_ridge import KernelRidge\n",
    "from sklearn.linear_model import LinearRegression, OrthogonalMatchingPursuit, Lasso, LassoLarsIC, ElasticNet, ElasticNetCV\n",
    "from sklearn.linear_model import SGDRegressor, PassiveAggressiveRegressor, HuberRegressor, BayesianRidge\n",
    "from sklearn.ensemble import GradientBoostingRegressor, RandomForestRegressor, BaggingRegressor, ExtraTreesRegressor\n",
    "import mlxtend\n",
    "from sklearn.ensemble import RandomForestRegressor, GradientBoostingRegressor, AdaBoostRegressor, BaggingRegressor\n",
    "from sklearn.kernel_ridge import KernelRidge\n",
    "import xgboost as xgb\n",
    "from xgboost import XGBRegressor, plot_importance\n",
    "import lightgbm as lgb\n",
    "# Models\n",
    "import mlxtend\n",
    "from sklearn.ensemble import RandomForestRegressor, GradientBoostingRegressor, AdaBoostRegressor, BaggingRegressor\n",
    "from sklearn.kernel_ridge import KernelRidge\n",
    "from sklearn.linear_model import Ridge, RidgeCV\n",
    "from sklearn.linear_model import ElasticNet, ElasticNetCV\n",
    "from sklearn.svm import SVR\n",
    "from mlxtend.regressor import StackingCVRegressor\n",
    "import lightgbm as lgb\n",
    "from lightgbm import LGBMRegressor\n",
    "from xgboost import XGBRegressor\n",
    "\n",
    "from patsy import dmatrices\n",
    "\n",
    "from sklearn.model_selection import GridSearchCV, cross_val_score, KFold, cross_val_predict, train_test_split\n",
    "from sklearn.metrics import mean_absolute_error, mean_squared_error, r2_score\n",
    "\n",
    "# Stats\n",
    "from scipy.stats import skew, norm\n",
    "from scipy.special import boxcox1p\n",
    "from scipy.stats import boxcox_normmax\n",
    "\n",
    "from scipy import stats\n",
    "from scipy.stats import skew, norm, probplot, boxcox\n",
    "from scipy.special import boxcox1p\n",
    "from patsy import dmatrices\n",
    "\n",
    "pd.set_option('expand_frame_repr', False)\n",
    "\n",
    "#For baseline estimations\n",
    "from sklearn.tree import DecisionTreeClassifier\n",
    "import sklearn.metrics as metrics\n",
    "\n",
    "from sklearn.metrics import accuracy_score\n",
    "\n",
    "\n",
    "#For importing from my own libraries in src :)\n",
    "import sys\n",
    "from pathlib import Path\n",
    "\n",
    "# in jupyter (lab / notebook), based on notebook path\n",
    "module_path = str(Path.cwd().parents[0] / \"src\")\n",
    "\n",
    "if module_path not in sys.path:\n",
    "    sys.path.append(module_path)\n",
    "    \n",
    "from house_utils import data_summary, features_profile, plot_feats\n",
    "\n",
    "from sklearn import preprocessing\n",
    "from sklearn.preprocessing import OneHotEncoder, StandardScaler\n",
    "from sklearn.feature_selection import VarianceThreshold\n",
    "from sklearn.preprocessing import StandardScaler, RobustScaler\n",
    "\n",
    "from sklearn.preprocessing import LabelEncoder\n",
    "\n",
    "\n",
    "from sklearn.compose import make_column_transformer\n",
    "from itertools import combinations \n",
    "\n",
    "\n",
    "warnings.filterwarnings(\"ignore\") # ignoring annoying warnings\n",
    "\n",
    "pd.set_option('display.max_columns', 500)\n",
    "pd.set_option('display.max_colwidth', -1) \n",
    "pd.set_option(\"display.max_rows\", 500)\n",
    "\n",
    "###TO PREVENT SCROLLING : SHIFT + O"
   ]
  },
  {
   "cell_type": "code",
   "execution_count": 3,
   "metadata": {},
   "outputs": [
    {
     "data": {
      "text/html": [
       "<div>\n",
       "<style scoped>\n",
       "    .dataframe tbody tr th:only-of-type {\n",
       "        vertical-align: middle;\n",
       "    }\n",
       "\n",
       "    .dataframe tbody tr th {\n",
       "        vertical-align: top;\n",
       "    }\n",
       "\n",
       "    .dataframe thead th {\n",
       "        text-align: right;\n",
       "    }\n",
       "</style>\n",
       "<table border=\"1\" class=\"dataframe\">\n",
       "  <thead>\n",
       "    <tr style=\"text-align: right;\">\n",
       "      <th></th>\n",
       "      <th>Loan_ID</th>\n",
       "      <th>Gender</th>\n",
       "      <th>Married</th>\n",
       "      <th>Dependents</th>\n",
       "      <th>Education</th>\n",
       "      <th>Self_Employed</th>\n",
       "      <th>ApplicantIncome</th>\n",
       "      <th>CoapplicantIncome</th>\n",
       "      <th>LoanAmount</th>\n",
       "      <th>Loan_Amount_Term</th>\n",
       "      <th>Credit_History</th>\n",
       "      <th>Property_Area</th>\n",
       "      <th>Loan_Status</th>\n",
       "    </tr>\n",
       "  </thead>\n",
       "  <tbody>\n",
       "    <tr>\n",
       "      <th>0</th>\n",
       "      <td>LP001002</td>\n",
       "      <td>Male</td>\n",
       "      <td>No</td>\n",
       "      <td>0</td>\n",
       "      <td>Graduate</td>\n",
       "      <td>No</td>\n",
       "      <td>5849</td>\n",
       "      <td>0.0000</td>\n",
       "      <td>nan</td>\n",
       "      <td>360.0000</td>\n",
       "      <td>1.0000</td>\n",
       "      <td>Urban</td>\n",
       "      <td>Y</td>\n",
       "    </tr>\n",
       "    <tr>\n",
       "      <th>1</th>\n",
       "      <td>LP001003</td>\n",
       "      <td>Male</td>\n",
       "      <td>Yes</td>\n",
       "      <td>1</td>\n",
       "      <td>Graduate</td>\n",
       "      <td>No</td>\n",
       "      <td>4583</td>\n",
       "      <td>1508.0000</td>\n",
       "      <td>128.0000</td>\n",
       "      <td>360.0000</td>\n",
       "      <td>1.0000</td>\n",
       "      <td>Rural</td>\n",
       "      <td>N</td>\n",
       "    </tr>\n",
       "    <tr>\n",
       "      <th>2</th>\n",
       "      <td>LP001005</td>\n",
       "      <td>Male</td>\n",
       "      <td>Yes</td>\n",
       "      <td>0</td>\n",
       "      <td>Graduate</td>\n",
       "      <td>Yes</td>\n",
       "      <td>3000</td>\n",
       "      <td>0.0000</td>\n",
       "      <td>66.0000</td>\n",
       "      <td>360.0000</td>\n",
       "      <td>1.0000</td>\n",
       "      <td>Urban</td>\n",
       "      <td>Y</td>\n",
       "    </tr>\n",
       "    <tr>\n",
       "      <th>3</th>\n",
       "      <td>LP001006</td>\n",
       "      <td>Male</td>\n",
       "      <td>Yes</td>\n",
       "      <td>0</td>\n",
       "      <td>Not Graduate</td>\n",
       "      <td>No</td>\n",
       "      <td>2583</td>\n",
       "      <td>2358.0000</td>\n",
       "      <td>120.0000</td>\n",
       "      <td>360.0000</td>\n",
       "      <td>1.0000</td>\n",
       "      <td>Urban</td>\n",
       "      <td>Y</td>\n",
       "    </tr>\n",
       "    <tr>\n",
       "      <th>4</th>\n",
       "      <td>LP001008</td>\n",
       "      <td>Male</td>\n",
       "      <td>No</td>\n",
       "      <td>0</td>\n",
       "      <td>Graduate</td>\n",
       "      <td>No</td>\n",
       "      <td>6000</td>\n",
       "      <td>0.0000</td>\n",
       "      <td>141.0000</td>\n",
       "      <td>360.0000</td>\n",
       "      <td>1.0000</td>\n",
       "      <td>Urban</td>\n",
       "      <td>Y</td>\n",
       "    </tr>\n",
       "  </tbody>\n",
       "</table>\n",
       "</div>"
      ],
      "text/plain": [
       "    Loan_ID Gender Married Dependents     Education Self_Employed  ApplicantIncome  CoapplicantIncome  LoanAmount  Loan_Amount_Term  Credit_History Property_Area Loan_Status\n",
       "0  LP001002  Male   No      0          Graduate      No            5849            0.0000             nan         360.0000          1.0000           Urban         Y         \n",
       "1  LP001003  Male   Yes     1          Graduate      No            4583            1508.0000          128.0000    360.0000          1.0000           Rural         N         \n",
       "2  LP001005  Male   Yes     0          Graduate      Yes           3000            0.0000             66.0000     360.0000          1.0000           Urban         Y         \n",
       "3  LP001006  Male   Yes     0          Not Graduate  No            2583            2358.0000          120.0000    360.0000          1.0000           Urban         Y         \n",
       "4  LP001008  Male   No      0          Graduate      No            6000            0.0000             141.0000    360.0000          1.0000           Urban         Y         "
      ]
     },
     "execution_count": 3,
     "metadata": {},
     "output_type": "execute_result"
    }
   ],
   "source": [
    "# READ THE WHOLE DATASET:\n",
    "# We load and read the whole dataset (train + test) because we need to clean and preprocess all of it!!!!\n",
    "#All the procedures must be applied to the entire dataset before split it!\n",
    "\n",
    "#Step 1: Load train and test sets\n",
    "\n",
    "train = pd.read_csv(\"train.csv\")\n",
    "test = pd.read_csv(\"test.csv\")\n",
    "\n",
    "#Target\n",
    "target = \"Loan_Status\"\n",
    "train.head()"
   ]
  },
  {
   "cell_type": "code",
   "execution_count": 4,
   "metadata": {},
   "outputs": [],
   "source": [
    "#Save the 'Id' column\n",
    "train_ID = train['Loan_ID']\n",
    "test_ID = test['Loan_ID']\n",
    "\n",
    "test_ID.to_csv(\"test_ID.csv\", index = False)\n",
    "\n",
    "#Drop ID from both datasets\n",
    "# train.drop(\"Id\", axis = 1, inplace = True)\n",
    "# test.drop(\"Id\", axis = 1, inplace = True)\n",
    "\n",
    "# Shape of the datasets\n",
    "train.shape, test.shape, train.shape[0], test.shape[0]\n",
    "\n",
    "#Separar y convertir el target en DataFrame\n",
    "y_train = train[target].to_frame()\n",
    "\n",
    "#Step 2: Concatenate both datasets into one\n",
    "\n",
    "df = pd.concat((train,test), sort = False).reset_index(drop = True)\n",
    "\n",
    "#drop target and id columns\n",
    "df.drop(columns = [target, \"Loan_ID\"], axis = 1, inplace = True)\n",
    "train.drop(columns = [\"Loan_ID\"], axis = 1, inplace = True)\n",
    "test.drop(columns = [\"Loan_ID\"], axis = 1, inplace = True)"
   ]
  },
  {
   "cell_type": "code",
   "execution_count": 5,
   "metadata": {},
   "outputs": [
    {
     "name": "stdout",
     "output_type": "stream",
     "text": [
      "<class 'pandas.core.frame.DataFrame'>\n",
      "RangeIndex: 614 entries, 0 to 613\n",
      "Data columns (total 12 columns):\n",
      " #   Column             Non-Null Count  Dtype  \n",
      "---  ------             --------------  -----  \n",
      " 0   Gender             601 non-null    object \n",
      " 1   Married            611 non-null    object \n",
      " 2   Dependents         599 non-null    object \n",
      " 3   Education          614 non-null    object \n",
      " 4   Self_Employed      582 non-null    object \n",
      " 5   ApplicantIncome    614 non-null    int64  \n",
      " 6   CoapplicantIncome  614 non-null    float64\n",
      " 7   LoanAmount         592 non-null    float64\n",
      " 8   Loan_Amount_Term   600 non-null    float64\n",
      " 9   Credit_History     564 non-null    float64\n",
      " 10  Property_Area      614 non-null    object \n",
      " 11  Loan_Status        614 non-null    object \n",
      "dtypes: float64(4), int64(1), object(7)\n",
      "memory usage: 57.7+ KB\n"
     ]
    }
   ],
   "source": [
    "#Variable identificacion\n",
    "train.info()"
   ]
  },
  {
   "cell_type": "code",
   "execution_count": 6,
   "metadata": {},
   "outputs": [],
   "source": [
    "#Labelencoding target\n",
    "le = LabelEncoder()\n",
    "train[\"Loan_Status\"] = pd.Series(le.fit_transform(train[target]))"
   ]
  },
  {
   "cell_type": "code",
   "execution_count": 7,
   "metadata": {},
   "outputs": [
    {
     "data": {
      "text/html": [
       "<div>\n",
       "<style scoped>\n",
       "    .dataframe tbody tr th:only-of-type {\n",
       "        vertical-align: middle;\n",
       "    }\n",
       "\n",
       "    .dataframe tbody tr th {\n",
       "        vertical-align: top;\n",
       "    }\n",
       "\n",
       "    .dataframe thead th {\n",
       "        text-align: right;\n",
       "    }\n",
       "</style>\n",
       "<table border=\"1\" class=\"dataframe\">\n",
       "  <thead>\n",
       "    <tr style=\"text-align: right;\">\n",
       "      <th></th>\n",
       "      <th>Gender</th>\n",
       "      <th>Married</th>\n",
       "      <th>Dependents</th>\n",
       "      <th>Education</th>\n",
       "      <th>Self_Employed</th>\n",
       "      <th>ApplicantIncome</th>\n",
       "      <th>CoapplicantIncome</th>\n",
       "      <th>LoanAmount</th>\n",
       "      <th>Loan_Amount_Term</th>\n",
       "      <th>Credit_History</th>\n",
       "      <th>Property_Area</th>\n",
       "      <th>Loan_Status</th>\n",
       "    </tr>\n",
       "  </thead>\n",
       "  <tbody>\n",
       "    <tr>\n",
       "      <th>0</th>\n",
       "      <td>Male</td>\n",
       "      <td>No</td>\n",
       "      <td>0</td>\n",
       "      <td>Graduate</td>\n",
       "      <td>No</td>\n",
       "      <td>5849</td>\n",
       "      <td>0.0000</td>\n",
       "      <td>nan</td>\n",
       "      <td>360.0000</td>\n",
       "      <td>1.0000</td>\n",
       "      <td>Urban</td>\n",
       "      <td>1</td>\n",
       "    </tr>\n",
       "    <tr>\n",
       "      <th>1</th>\n",
       "      <td>Male</td>\n",
       "      <td>Yes</td>\n",
       "      <td>1</td>\n",
       "      <td>Graduate</td>\n",
       "      <td>No</td>\n",
       "      <td>4583</td>\n",
       "      <td>1508.0000</td>\n",
       "      <td>128.0000</td>\n",
       "      <td>360.0000</td>\n",
       "      <td>1.0000</td>\n",
       "      <td>Rural</td>\n",
       "      <td>0</td>\n",
       "    </tr>\n",
       "  </tbody>\n",
       "</table>\n",
       "</div>"
      ],
      "text/plain": [
       "  Gender Married Dependents Education Self_Employed  ApplicantIncome  CoapplicantIncome  LoanAmount  Loan_Amount_Term  Credit_History Property_Area  Loan_Status\n",
       "0  Male   No      0          Graduate  No            5849            0.0000             nan         360.0000          1.0000           Urban         1          \n",
       "1  Male   Yes     1          Graduate  No            4583            1508.0000          128.0000    360.0000          1.0000           Rural         0          "
      ]
     },
     "execution_count": 7,
     "metadata": {},
     "output_type": "execute_result"
    }
   ],
   "source": [
    "train.head(2)"
   ]
  },
  {
   "cell_type": "code",
   "execution_count": 8,
   "metadata": {},
   "outputs": [],
   "source": [
    "#Classification of each feature\n",
    "#PassengerId: numerical-discrete\n",
    "#Survived: numerical-discrete (target)\n",
    "#Pclass:  numerical-discrete\n",
    "#Sex: categorical - nominal\n",
    "#Age: numerical - continuous (there are enfants with 0.4 years)\n",
    "#Name: categorical- nominal\n",
    "#SibSp:  numerical-discrete\n",
    "#Parch:  numerical-discrete\n",
    "#Ticket: categorical- nominal\n",
    "#Fare: numerical - continuous\n",
    "#Cabin: categorical- nominal\n",
    "#Embarked: categorical- nominal\n",
    "\n",
    "#Summary:\n",
    "# num_discrete = ['PassengerId', 'Survived', 'Pclass', 'SibSp',\n",
    "#        'Parch']\n",
    "# num_continuous = ['Age',  'Fare']\n",
    "# categ_nominal = ['Sex', \"Name\",'Ticket', 'Cabin', 'Embarked']"
   ]
  },
  {
   "cell_type": "code",
   "execution_count": 9,
   "metadata": {},
   "outputs": [],
   "source": [
    "# new_feats = df.copy() ##guardar para crear new features\n",
    "# new_feats.Ticket = df.Ticket"
   ]
  },
  {
   "cell_type": "code",
   "execution_count": 10,
   "metadata": {},
   "outputs": [
    {
     "data": {
      "text/html": [
       "<div>\n",
       "<style scoped>\n",
       "    .dataframe tbody tr th:only-of-type {\n",
       "        vertical-align: middle;\n",
       "    }\n",
       "\n",
       "    .dataframe tbody tr th {\n",
       "        vertical-align: top;\n",
       "    }\n",
       "\n",
       "    .dataframe thead th {\n",
       "        text-align: right;\n",
       "    }\n",
       "</style>\n",
       "<table border=\"1\" class=\"dataframe\">\n",
       "  <thead>\n",
       "    <tr style=\"text-align: right;\">\n",
       "      <th></th>\n",
       "      <th>Dtype</th>\n",
       "      <th>Uniques</th>\n",
       "      <th>Nulls</th>\n",
       "      <th>% Nulls</th>\n",
       "      <th>Skew</th>\n",
       "      <th>Kurtosis</th>\n",
       "      <th>Correlation</th>\n",
       "    </tr>\n",
       "  </thead>\n",
       "  <tbody>\n",
       "    <tr>\n",
       "      <th>Loan_Status</th>\n",
       "      <td>int32</td>\n",
       "      <td>2</td>\n",
       "      <td>0</td>\n",
       "      <td>0.0000</td>\n",
       "      <td>-0.8100</td>\n",
       "      <td>-1.3480</td>\n",
       "      <td>1.0000</td>\n",
       "    </tr>\n",
       "    <tr>\n",
       "      <th>Credit_History</th>\n",
       "      <td>float64</td>\n",
       "      <td>2</td>\n",
       "      <td>50</td>\n",
       "      <td>0.0800</td>\n",
       "      <td>-1.8820</td>\n",
       "      <td>1.5490</td>\n",
       "      <td>0.5620</td>\n",
       "    </tr>\n",
       "    <tr>\n",
       "      <th>CoapplicantIncome</th>\n",
       "      <td>float64</td>\n",
       "      <td>287</td>\n",
       "      <td>0</td>\n",
       "      <td>0.0000</td>\n",
       "      <td>7.4920</td>\n",
       "      <td>84.9560</td>\n",
       "      <td>-0.0590</td>\n",
       "    </tr>\n",
       "    <tr>\n",
       "      <th>LoanAmount</th>\n",
       "      <td>float64</td>\n",
       "      <td>203</td>\n",
       "      <td>22</td>\n",
       "      <td>0.0400</td>\n",
       "      <td>2.6780</td>\n",
       "      <td>10.4020</td>\n",
       "      <td>-0.0370</td>\n",
       "    </tr>\n",
       "    <tr>\n",
       "      <th>Loan_Amount_Term</th>\n",
       "      <td>float64</td>\n",
       "      <td>10</td>\n",
       "      <td>14</td>\n",
       "      <td>0.0200</td>\n",
       "      <td>-2.3620</td>\n",
       "      <td>6.6730</td>\n",
       "      <td>-0.0210</td>\n",
       "    </tr>\n",
       "    <tr>\n",
       "      <th>ApplicantIncome</th>\n",
       "      <td>int64</td>\n",
       "      <td>505</td>\n",
       "      <td>0</td>\n",
       "      <td>0.0000</td>\n",
       "      <td>6.5400</td>\n",
       "      <td>60.5410</td>\n",
       "      <td>-0.0050</td>\n",
       "    </tr>\n",
       "  </tbody>\n",
       "</table>\n",
       "</div>"
      ],
      "text/plain": [
       "                     Dtype  Uniques  Nulls  % Nulls    Skew  Kurtosis  Correlation\n",
       "Loan_Status        int32    2        0     0.0000   -0.8100 -1.3480   1.0000      \n",
       "Credit_History     float64  2        50    0.0800   -1.8820 1.5490    0.5620      \n",
       "CoapplicantIncome  float64  287      0     0.0000   7.4920  84.9560   -0.0590     \n",
       "LoanAmount         float64  203      22    0.0400   2.6780  10.4020   -0.0370     \n",
       "Loan_Amount_Term   float64  10       14    0.0200   -2.3620 6.6730    -0.0210     \n",
       "ApplicantIncome    int64    505      0     0.0000   6.5400  60.5410   -0.0050     "
      ]
     },
     "execution_count": 10,
     "metadata": {},
     "output_type": "execute_result"
    }
   ],
   "source": [
    "#Summary of numerical features (train dataset)\n",
    "data_summary(df = train.select_dtypes(include = \"number\"), target = target)"
   ]
  },
  {
   "cell_type": "code",
   "execution_count": 11,
   "metadata": {},
   "outputs": [],
   "source": [
    "##Summary:\n",
    "#Pclass and Fare as the most correlated features with Target\n",
    "#Fare has a huge Kurtosis and skew, so it must me processed.\n",
    "#Fare must have a significant amount of outliers to be analyzed\n",
    "#Parch and SibSp also must be transformed"
   ]
  },
  {
   "cell_type": "code",
   "execution_count": 12,
   "metadata": {},
   "outputs": [
    {
     "data": {
      "text/html": [
       "<div>\n",
       "<style scoped>\n",
       "    .dataframe tbody tr th:only-of-type {\n",
       "        vertical-align: middle;\n",
       "    }\n",
       "\n",
       "    .dataframe tbody tr th {\n",
       "        vertical-align: top;\n",
       "    }\n",
       "\n",
       "    .dataframe thead th {\n",
       "        text-align: right;\n",
       "    }\n",
       "</style>\n",
       "<table border=\"1\" class=\"dataframe\">\n",
       "  <thead>\n",
       "    <tr style=\"text-align: right;\">\n",
       "      <th></th>\n",
       "      <th>ApplicantIncome</th>\n",
       "      <th>CoapplicantIncome</th>\n",
       "      <th>LoanAmount</th>\n",
       "      <th>Loan_Amount_Term</th>\n",
       "      <th>Credit_History</th>\n",
       "      <th>Loan_Status</th>\n",
       "    </tr>\n",
       "  </thead>\n",
       "  <tbody>\n",
       "    <tr>\n",
       "      <th>count</th>\n",
       "      <td>614.0000</td>\n",
       "      <td>614.0000</td>\n",
       "      <td>592.0000</td>\n",
       "      <td>600.0000</td>\n",
       "      <td>564.0000</td>\n",
       "      <td>614.0000</td>\n",
       "    </tr>\n",
       "    <tr>\n",
       "      <th>mean</th>\n",
       "      <td>5403.4593</td>\n",
       "      <td>1621.2458</td>\n",
       "      <td>146.4122</td>\n",
       "      <td>342.0000</td>\n",
       "      <td>0.8422</td>\n",
       "      <td>0.6873</td>\n",
       "    </tr>\n",
       "    <tr>\n",
       "      <th>std</th>\n",
       "      <td>6109.0417</td>\n",
       "      <td>2926.2484</td>\n",
       "      <td>85.5873</td>\n",
       "      <td>65.1204</td>\n",
       "      <td>0.3649</td>\n",
       "      <td>0.4640</td>\n",
       "    </tr>\n",
       "    <tr>\n",
       "      <th>min</th>\n",
       "      <td>150.0000</td>\n",
       "      <td>0.0000</td>\n",
       "      <td>9.0000</td>\n",
       "      <td>12.0000</td>\n",
       "      <td>0.0000</td>\n",
       "      <td>0.0000</td>\n",
       "    </tr>\n",
       "    <tr>\n",
       "      <th>25%</th>\n",
       "      <td>2877.5000</td>\n",
       "      <td>0.0000</td>\n",
       "      <td>100.0000</td>\n",
       "      <td>360.0000</td>\n",
       "      <td>1.0000</td>\n",
       "      <td>0.0000</td>\n",
       "    </tr>\n",
       "    <tr>\n",
       "      <th>50%</th>\n",
       "      <td>3812.5000</td>\n",
       "      <td>1188.5000</td>\n",
       "      <td>128.0000</td>\n",
       "      <td>360.0000</td>\n",
       "      <td>1.0000</td>\n",
       "      <td>1.0000</td>\n",
       "    </tr>\n",
       "    <tr>\n",
       "      <th>75%</th>\n",
       "      <td>5795.0000</td>\n",
       "      <td>2297.2500</td>\n",
       "      <td>168.0000</td>\n",
       "      <td>360.0000</td>\n",
       "      <td>1.0000</td>\n",
       "      <td>1.0000</td>\n",
       "    </tr>\n",
       "    <tr>\n",
       "      <th>max</th>\n",
       "      <td>81000.0000</td>\n",
       "      <td>41667.0000</td>\n",
       "      <td>700.0000</td>\n",
       "      <td>480.0000</td>\n",
       "      <td>1.0000</td>\n",
       "      <td>1.0000</td>\n",
       "    </tr>\n",
       "  </tbody>\n",
       "</table>\n",
       "</div>"
      ],
      "text/plain": [
       "       ApplicantIncome  CoapplicantIncome  LoanAmount  Loan_Amount_Term  Credit_History  Loan_Status\n",
       "count 614.0000         614.0000           592.0000    600.0000          564.0000        614.0000    \n",
       "mean  5403.4593        1621.2458          146.4122    342.0000          0.8422          0.6873      \n",
       "std   6109.0417        2926.2484          85.5873     65.1204           0.3649          0.4640      \n",
       "min   150.0000         0.0000             9.0000      12.0000           0.0000          0.0000      \n",
       "25%   2877.5000        0.0000             100.0000    360.0000          1.0000          0.0000      \n",
       "50%   3812.5000        1188.5000          128.0000    360.0000          1.0000          1.0000      \n",
       "75%   5795.0000        2297.2500          168.0000    360.0000          1.0000          1.0000      \n",
       "max   81000.0000       41667.0000         700.0000    480.0000          1.0000          1.0000      "
      ]
     },
     "execution_count": 12,
     "metadata": {},
     "output_type": "execute_result"
    }
   ],
   "source": [
    "#Statistical summary of dataset (using train dataset)\n",
    "train.describe()"
   ]
  },
  {
   "cell_type": "code",
   "execution_count": 13,
   "metadata": {},
   "outputs": [],
   "source": [
    "#Observations:\n",
    "#- Only 38,4% of people survived\n",
    "#There are remarkable high values in the 3rd quantile of Fare to look into\n",
    "#75% of passengers declared without Parch\n",
    "#75% of passengers were 38 years old or less\n",
    "#There are different scales in the numerical data, so they will have to be rescaled later for modeling stage"
   ]
  },
  {
   "cell_type": "code",
   "execution_count": 14,
   "metadata": {},
   "outputs": [
    {
     "data": {
      "text/html": [
       "<div>\n",
       "<style scoped>\n",
       "    .dataframe tbody tr th:only-of-type {\n",
       "        vertical-align: middle;\n",
       "    }\n",
       "\n",
       "    .dataframe tbody tr th {\n",
       "        vertical-align: top;\n",
       "    }\n",
       "\n",
       "    .dataframe thead th {\n",
       "        text-align: right;\n",
       "    }\n",
       "</style>\n",
       "<table border=\"1\" class=\"dataframe\">\n",
       "  <thead>\n",
       "    <tr style=\"text-align: right;\">\n",
       "      <th></th>\n",
       "      <th>Total</th>\n",
       "      <th>%</th>\n",
       "    </tr>\n",
       "  </thead>\n",
       "  <tbody>\n",
       "    <tr>\n",
       "      <th>Credit_History</th>\n",
       "      <td>79</td>\n",
       "      <td>8.1000</td>\n",
       "    </tr>\n",
       "    <tr>\n",
       "      <th>Self_Employed</th>\n",
       "      <td>55</td>\n",
       "      <td>5.6000</td>\n",
       "    </tr>\n",
       "    <tr>\n",
       "      <th>LoanAmount</th>\n",
       "      <td>27</td>\n",
       "      <td>2.8000</td>\n",
       "    </tr>\n",
       "    <tr>\n",
       "      <th>Dependents</th>\n",
       "      <td>25</td>\n",
       "      <td>2.5000</td>\n",
       "    </tr>\n",
       "    <tr>\n",
       "      <th>Gender</th>\n",
       "      <td>24</td>\n",
       "      <td>2.4000</td>\n",
       "    </tr>\n",
       "    <tr>\n",
       "      <th>Loan_Amount_Term</th>\n",
       "      <td>20</td>\n",
       "      <td>2.0000</td>\n",
       "    </tr>\n",
       "    <tr>\n",
       "      <th>Married</th>\n",
       "      <td>3</td>\n",
       "      <td>0.3000</td>\n",
       "    </tr>\n",
       "  </tbody>\n",
       "</table>\n",
       "</div>"
      ],
      "text/plain": [
       "                  Total      %\n",
       "Credit_History    79    8.1000\n",
       "Self_Employed     55    5.6000\n",
       "LoanAmount        27    2.8000\n",
       "Dependents        25    2.5000\n",
       "Gender            24    2.4000\n",
       "Loan_Amount_Term  20    2.0000\n",
       "Married           3     0.3000"
      ]
     },
     "execution_count": 14,
     "metadata": {},
     "output_type": "execute_result"
    }
   ],
   "source": [
    "#ANALYSIS OF NULLS\n",
    "def nulls_summary(df):\n",
    "    total = df.isnull().sum().sort_values(ascending=False)\n",
    "    percent_1 = df.isnull().sum()/df.isnull().count()*100\n",
    "    percent_2 = (round(percent_1, 1)).sort_values(ascending=False)\n",
    "    missing_data = pd.concat([total, percent_2], axis=1, keys=['Total', '%'])\n",
    "    return missing_data[missing_data[\"Total\"] != 0]\n",
    "\n",
    "nulls_summary(df)"
   ]
  },
  {
   "cell_type": "code",
   "execution_count": 15,
   "metadata": {},
   "outputs": [
    {
     "data": {
      "text/html": [
       "<div>\n",
       "<style scoped>\n",
       "    .dataframe tbody tr th:only-of-type {\n",
       "        vertical-align: middle;\n",
       "    }\n",
       "\n",
       "    .dataframe tbody tr th {\n",
       "        vertical-align: top;\n",
       "    }\n",
       "\n",
       "    .dataframe thead th {\n",
       "        text-align: right;\n",
       "    }\n",
       "</style>\n",
       "<table border=\"1\" class=\"dataframe\">\n",
       "  <thead>\n",
       "    <tr style=\"text-align: right;\">\n",
       "      <th></th>\n",
       "      <th>Total</th>\n",
       "      <th>%</th>\n",
       "    </tr>\n",
       "  </thead>\n",
       "  <tbody>\n",
       "    <tr>\n",
       "      <th>Credit_History</th>\n",
       "      <td>50</td>\n",
       "      <td>8.1000</td>\n",
       "    </tr>\n",
       "    <tr>\n",
       "      <th>Self_Employed</th>\n",
       "      <td>32</td>\n",
       "      <td>5.2000</td>\n",
       "    </tr>\n",
       "    <tr>\n",
       "      <th>LoanAmount</th>\n",
       "      <td>22</td>\n",
       "      <td>3.6000</td>\n",
       "    </tr>\n",
       "    <tr>\n",
       "      <th>Dependents</th>\n",
       "      <td>15</td>\n",
       "      <td>2.4000</td>\n",
       "    </tr>\n",
       "    <tr>\n",
       "      <th>Loan_Amount_Term</th>\n",
       "      <td>14</td>\n",
       "      <td>2.3000</td>\n",
       "    </tr>\n",
       "    <tr>\n",
       "      <th>Gender</th>\n",
       "      <td>13</td>\n",
       "      <td>2.1000</td>\n",
       "    </tr>\n",
       "    <tr>\n",
       "      <th>Married</th>\n",
       "      <td>3</td>\n",
       "      <td>0.5000</td>\n",
       "    </tr>\n",
       "  </tbody>\n",
       "</table>\n",
       "</div>"
      ],
      "text/plain": [
       "                  Total      %\n",
       "Credit_History    50    8.1000\n",
       "Self_Employed     32    5.2000\n",
       "LoanAmount        22    3.6000\n",
       "Dependents        15    2.4000\n",
       "Loan_Amount_Term  14    2.3000\n",
       "Gender            13    2.1000\n",
       "Married           3     0.5000"
      ]
     },
     "execution_count": 15,
     "metadata": {},
     "output_type": "execute_result"
    }
   ],
   "source": [
    "#Summary of nulls:\n",
    "\n",
    "#Nulls in train\n",
    "nulls_summary(train)"
   ]
  },
  {
   "cell_type": "code",
   "execution_count": 16,
   "metadata": {},
   "outputs": [
    {
     "data": {
      "text/html": [
       "<div>\n",
       "<style scoped>\n",
       "    .dataframe tbody tr th:only-of-type {\n",
       "        vertical-align: middle;\n",
       "    }\n",
       "\n",
       "    .dataframe tbody tr th {\n",
       "        vertical-align: top;\n",
       "    }\n",
       "\n",
       "    .dataframe thead th {\n",
       "        text-align: right;\n",
       "    }\n",
       "</style>\n",
       "<table border=\"1\" class=\"dataframe\">\n",
       "  <thead>\n",
       "    <tr style=\"text-align: right;\">\n",
       "      <th></th>\n",
       "      <th>Total</th>\n",
       "      <th>%</th>\n",
       "    </tr>\n",
       "  </thead>\n",
       "  <tbody>\n",
       "    <tr>\n",
       "      <th>Credit_History</th>\n",
       "      <td>29</td>\n",
       "      <td>7.9000</td>\n",
       "    </tr>\n",
       "    <tr>\n",
       "      <th>Self_Employed</th>\n",
       "      <td>23</td>\n",
       "      <td>6.3000</td>\n",
       "    </tr>\n",
       "    <tr>\n",
       "      <th>Gender</th>\n",
       "      <td>11</td>\n",
       "      <td>3.0000</td>\n",
       "    </tr>\n",
       "    <tr>\n",
       "      <th>Dependents</th>\n",
       "      <td>10</td>\n",
       "      <td>2.7000</td>\n",
       "    </tr>\n",
       "    <tr>\n",
       "      <th>Loan_Amount_Term</th>\n",
       "      <td>6</td>\n",
       "      <td>1.6000</td>\n",
       "    </tr>\n",
       "    <tr>\n",
       "      <th>LoanAmount</th>\n",
       "      <td>5</td>\n",
       "      <td>1.4000</td>\n",
       "    </tr>\n",
       "  </tbody>\n",
       "</table>\n",
       "</div>"
      ],
      "text/plain": [
       "                  Total      %\n",
       "Credit_History    29    7.9000\n",
       "Self_Employed     23    6.3000\n",
       "Gender            11    3.0000\n",
       "Dependents        10    2.7000\n",
       "Loan_Amount_Term  6     1.6000\n",
       "LoanAmount        5     1.4000"
      ]
     },
     "execution_count": 16,
     "metadata": {},
     "output_type": "execute_result"
    }
   ],
   "source": [
    "#Nulls in test\n",
    "nulls_summary(test)"
   ]
  },
  {
   "cell_type": "code",
   "execution_count": 17,
   "metadata": {},
   "outputs": [],
   "source": [
    "#Nulls imputation for train and test using simple median imputation\n",
    "\n",
    "#Train nulls imputing\n",
    "\n",
    "def impute(df, target):\n",
    "    col = df.columns\n",
    "    if target == \"None\":\n",
    "        col = col.drop(target)\n",
    "    else:\n",
    "        pass\n",
    "    num_cols = df.select_dtypes(include = \"number\").columns\n",
    "    cat_cols = df.select_dtypes(include = \"object\").columns\n",
    "    #Impute numeric using median\n",
    "    for c in num_cols:\n",
    "        df[c] = df[c].fillna(df[c].median())\n",
    "    #Impute cat using mode\n",
    "    for c in cat_cols:\n",
    "        df[c] = df[c].fillna(df[c].mode()[0])\n",
    "    \n",
    "    return df\n",
    "    \n",
    "\n",
    "train = impute(train, target = target)\n",
    "test = impute(test, target = None)"
   ]
  },
  {
   "cell_type": "code",
   "execution_count": 18,
   "metadata": {},
   "outputs": [
    {
     "data": {
      "text/plain": [
       "Gender               0\n",
       "Married              0\n",
       "Dependents           0\n",
       "Education            0\n",
       "Self_Employed        0\n",
       "ApplicantIncome      0\n",
       "CoapplicantIncome    0\n",
       "LoanAmount           0\n",
       "Loan_Amount_Term     0\n",
       "Credit_History       0\n",
       "Property_Area        0\n",
       "dtype: int64"
      ]
     },
     "execution_count": 18,
     "metadata": {},
     "output_type": "execute_result"
    }
   ],
   "source": [
    "test.isnull().sum()"
   ]
  },
  {
   "cell_type": "code",
   "execution_count": 19,
   "metadata": {},
   "outputs": [],
   "source": [
    "##Preparing data for baseline test "
   ]
  },
  {
   "cell_type": "code",
   "execution_count": 20,
   "metadata": {},
   "outputs": [],
   "source": [
    "#Rejoin data\n",
    "test[\"Loan_Status\"] = -1\n",
    "\n",
    "df = pd.concat((train,test), axis = 0)"
   ]
  },
  {
   "cell_type": "code",
   "execution_count": 21,
   "metadata": {},
   "outputs": [
    {
     "data": {
      "text/html": [
       "<div>\n",
       "<style scoped>\n",
       "    .dataframe tbody tr th:only-of-type {\n",
       "        vertical-align: middle;\n",
       "    }\n",
       "\n",
       "    .dataframe tbody tr th {\n",
       "        vertical-align: top;\n",
       "    }\n",
       "\n",
       "    .dataframe thead th {\n",
       "        text-align: right;\n",
       "    }\n",
       "</style>\n",
       "<table border=\"1\" class=\"dataframe\">\n",
       "  <thead>\n",
       "    <tr style=\"text-align: right;\">\n",
       "      <th></th>\n",
       "      <th>Gender</th>\n",
       "      <th>Married</th>\n",
       "      <th>Dependents</th>\n",
       "      <th>Education</th>\n",
       "      <th>Self_Employed</th>\n",
       "      <th>ApplicantIncome</th>\n",
       "      <th>CoapplicantIncome</th>\n",
       "      <th>LoanAmount</th>\n",
       "      <th>Loan_Amount_Term</th>\n",
       "      <th>Credit_History</th>\n",
       "      <th>Property_Area</th>\n",
       "      <th>Loan_Status</th>\n",
       "    </tr>\n",
       "  </thead>\n",
       "  <tbody>\n",
       "    <tr>\n",
       "      <th>362</th>\n",
       "      <td>Male</td>\n",
       "      <td>Yes</td>\n",
       "      <td>3+</td>\n",
       "      <td>Not Graduate</td>\n",
       "      <td>Yes</td>\n",
       "      <td>4009</td>\n",
       "      <td>1777.0000</td>\n",
       "      <td>113.0000</td>\n",
       "      <td>360.0000</td>\n",
       "      <td>1.0000</td>\n",
       "      <td>Urban</td>\n",
       "      <td>-1</td>\n",
       "    </tr>\n",
       "    <tr>\n",
       "      <th>363</th>\n",
       "      <td>Male</td>\n",
       "      <td>Yes</td>\n",
       "      <td>0</td>\n",
       "      <td>Graduate</td>\n",
       "      <td>No</td>\n",
       "      <td>4158</td>\n",
       "      <td>709.0000</td>\n",
       "      <td>115.0000</td>\n",
       "      <td>360.0000</td>\n",
       "      <td>1.0000</td>\n",
       "      <td>Urban</td>\n",
       "      <td>-1</td>\n",
       "    </tr>\n",
       "    <tr>\n",
       "      <th>364</th>\n",
       "      <td>Male</td>\n",
       "      <td>No</td>\n",
       "      <td>0</td>\n",
       "      <td>Graduate</td>\n",
       "      <td>No</td>\n",
       "      <td>3250</td>\n",
       "      <td>1993.0000</td>\n",
       "      <td>126.0000</td>\n",
       "      <td>360.0000</td>\n",
       "      <td>1.0000</td>\n",
       "      <td>Semiurban</td>\n",
       "      <td>-1</td>\n",
       "    </tr>\n",
       "    <tr>\n",
       "      <th>365</th>\n",
       "      <td>Male</td>\n",
       "      <td>Yes</td>\n",
       "      <td>0</td>\n",
       "      <td>Graduate</td>\n",
       "      <td>No</td>\n",
       "      <td>5000</td>\n",
       "      <td>2393.0000</td>\n",
       "      <td>158.0000</td>\n",
       "      <td>360.0000</td>\n",
       "      <td>1.0000</td>\n",
       "      <td>Rural</td>\n",
       "      <td>-1</td>\n",
       "    </tr>\n",
       "    <tr>\n",
       "      <th>366</th>\n",
       "      <td>Male</td>\n",
       "      <td>No</td>\n",
       "      <td>0</td>\n",
       "      <td>Graduate</td>\n",
       "      <td>Yes</td>\n",
       "      <td>9200</td>\n",
       "      <td>0.0000</td>\n",
       "      <td>98.0000</td>\n",
       "      <td>180.0000</td>\n",
       "      <td>1.0000</td>\n",
       "      <td>Rural</td>\n",
       "      <td>-1</td>\n",
       "    </tr>\n",
       "  </tbody>\n",
       "</table>\n",
       "</div>"
      ],
      "text/plain": [
       "    Gender Married Dependents     Education Self_Employed  ApplicantIncome  CoapplicantIncome  LoanAmount  Loan_Amount_Term  Credit_History Property_Area  Loan_Status\n",
       "362  Male   Yes     3+         Not Graduate  Yes           4009            1777.0000          113.0000    360.0000          1.0000           Urban        -1          \n",
       "363  Male   Yes     0          Graduate      No            4158            709.0000           115.0000    360.0000          1.0000           Urban        -1          \n",
       "364  Male   No      0          Graduate      No            3250            1993.0000          126.0000    360.0000          1.0000           Semiurban    -1          \n",
       "365  Male   Yes     0          Graduate      No            5000            2393.0000          158.0000    360.0000          1.0000           Rural        -1          \n",
       "366  Male   No      0          Graduate      Yes           9200            0.0000             98.0000     180.0000          1.0000           Rural        -1          "
      ]
     },
     "execution_count": 21,
     "metadata": {},
     "output_type": "execute_result"
    }
   ],
   "source": [
    "df.tail()"
   ]
  },
  {
   "cell_type": "code",
   "execution_count": 22,
   "metadata": {},
   "outputs": [
    {
     "data": {
      "text/plain": [
       "(981, 12)"
      ]
     },
     "execution_count": 22,
     "metadata": {},
     "output_type": "execute_result"
    }
   ],
   "source": [
    "df.shape"
   ]
  },
  {
   "cell_type": "code",
   "execution_count": 57,
   "metadata": {},
   "outputs": [],
   "source": [
    "df.to_csv(\"loan_comp.csv\", index = False)"
   ]
  },
  {
   "cell_type": "code",
   "execution_count": 93,
   "metadata": {},
   "outputs": [],
   "source": [
    "##SUBMISSION LOAN COMPETITION\n",
    "sub = pd.read_csv(\"submission.csv\")\n",
    "id = pd.read_csv(\"test_ID.csv\")\n",
    "submission = pd.concat((id, sub), axis = 1)\n",
    "submission= submission.set_index([\"Loan_ID\"])\n",
    "dict = {1: \"Y\", 0:\"N\"}\n",
    "submission = submission[\"Loan_Status\"].map(dict)\n",
    "submission.to_csv(\"sub__final.csv\")"
   ]
  },
  {
   "cell_type": "code",
   "execution_count": null,
   "metadata": {},
   "outputs": [],
   "source": [
    "##UNIVARIATE VISUAL ANALYSIS:\n",
    "#Check tha distribution of each feature and draw useful information\n",
    "#We will use the separation we made (continuous, discrete, categorical) to plot accodingly \n",
    "\n",
    "#Points to check:\n",
    "\n",
    "#Cómo es la forma de la distribucion? #es una distribucion simetrica?\n",
    "#\"The shape of the distribution is a fundamental characteristic of your sample\n",
    "#that can determine which measure of central tendency best reflects the center of your data\".\n",
    "#Also the shape also impacts your choice between using a parametric or nonparametric hypothesis test.\n",
    "#Cuál es el valor más típico\n",
    "#Lo datos estàn dispersos o no?\n",
    "#Si no, cómo es?\n",
    "#El promedio estará alterado por la presencia de outliers , como acá"
   ]
  },
  {
   "cell_type": "code",
   "execution_count": null,
   "metadata": {
    "scrolled": false
   },
   "outputs": [],
   "source": [
    "#1. CONTINUOUS FEATURES\n",
    "#For continuous data we must use the histogram\n",
    "\n",
    "#LoanAmount\n",
    "g = sns.displot(train.LoanAmount, bins = 25,  binwidth=20)\n",
    "g.fig.set_figwidth(12)\n",
    "g.fig.set_figheight(5.7)\n",
    "plt.title(\"Mode: {}, median :{}, mean:{}\".format(train.LoanAmount.mode()[0], train.LoanAmount.median(), np.round(train.LoanAmount.mean(),2)))\n",
    "plt.show()\n",
    "    "
   ]
  },
  {
   "cell_type": "code",
   "execution_count": null,
   "metadata": {},
   "outputs": [],
   "source": [
    "#Cómo es la forma de la distribucion? #es una distribucion simetrica? No es simétrica, right-skewed\n",
    "#\"The shape of the distribution is a fundamental characteristic of your sample\n",
    "#that can determine which measure of central tendency best reflects the center of your data\".\n",
    "#Also the shape also impacts your choice between using a parametric or nonparametric hypothesis test.\n",
    "#Cuál es el valor más típico: mode: 120\n",
    "#Lo datos estàn dispersos o no?: Existen outliers evidentes en el extremo derecho, que tiran el promedio hacia arriba\n",
    "#Si no, cómo es?\n",
    "#El promedio estará alterado por la presencia de outliers , como acá"
   ]
  },
  {
   "cell_type": "code",
   "execution_count": null,
   "metadata": {},
   "outputs": [],
   "source": [
    "\n",
    "#ApplicantIncome\n",
    "g = sns.displot(train, x= \"ApplicantIncome\", bins = 30)\n",
    "g.fig.set_figwidth(12)\n",
    "g.fig.set_figheight(5.7)\n",
    "plt.title(\"Mode: {}, median :{}, mean:{}\".format(train.ApplicantIncome.mode()[0], train.ApplicantIncome.median(), train.ApplicantIncome.mean()))\n",
    "plt.show()\n"
   ]
  },
  {
   "cell_type": "code",
   "execution_count": null,
   "metadata": {},
   "outputs": [],
   "source": [
    "#Cómo es la forma de la distribucion? #es una distribucion simetrica?: Es simétrica, con un peak a la izquierda a analizar\n",
    "#y además right skewed con algunos valores altos (alrededor de 80)\n",
    "#\"The shape of the distribution is a fundamental characteristic of your sample\n",
    "#that can determine which measure of central tendency best reflects the center of your data\".\n",
    "#Also the shape also impacts your choice between using a parametric or nonparametric hypothesis test.\n",
    "#Cuál es el valor más típico: Mode = 24 años\n",
    "#Lo datos estàn dispersos o no?: Hay dispersión hacia la derecha, pero en gral se ve simétrica\n",
    "#Si no, cómo es?\n",
    "#El promedio estará alterado por la presencia de los outliers , como acá"
   ]
  },
  {
   "cell_type": "code",
   "execution_count": null,
   "metadata": {},
   "outputs": [],
   "source": [
    "#Age and Sex: male\n",
    "t = train[train.Sex == \"male\"]\n",
    "g = sns.displot(train[train.Sex == \"male\"], x= \"Age\", bins = 30)\n",
    "g.fig.set_figwidth(12)\n",
    "g.fig.set_figheight(5.7)\n",
    "plt.title(\"Mode: {}, median :{}, mean:{}\".format(t.Age.mode()[0], t.Age.median(), t.Age.mean()))\n",
    "plt.show()\n"
   ]
  },
  {
   "cell_type": "code",
   "execution_count": null,
   "metadata": {},
   "outputs": [],
   "source": [
    "#Age and Sex: female\n",
    "t = train[train.Sex == \"female\"]\n",
    "g = sns.displot(t, x= \"Age\", bins = 30)\n",
    "g.fig.set_figwidth(12)\n",
    "g.fig.set_figheight(5.7)\n",
    "plt.title(\"Mode: {}, median :{}, mean:{}\".format(t.Age.mode()[0], t.Age.median(), t.Age.mean()))\n",
    "plt.show()\n"
   ]
  },
  {
   "cell_type": "code",
   "execution_count": null,
   "metadata": {},
   "outputs": [],
   "source": [
    "##ANALYSIS:\n",
    "# Male: Symetric distribution with right skewness. More disperse ages, with typical value of 19\n",
    "#Female: Symetric distribution with right skewness.Les disperse than men, with typical value of 24 years old"
   ]
  },
  {
   "cell_type": "code",
   "execution_count": null,
   "metadata": {},
   "outputs": [],
   "source": [
    "#Revisemos además los valores de la izquierda, correspondientes a los menores:\n",
    "children = train[train.Age <14]\n",
    "g = sns.displot(children, x= \"Age\", bins = 25)\n",
    "g.fig.set_figwidth(12)\n",
    "g.fig.set_figheight(5.7)\n",
    "plt.title(\"Mode: {}, median :{}, mean:{}\".format(children.Age.mode()[0], children.Age.median(), children.Age.mean()))\n",
    "plt.show()"
   ]
  },
  {
   "cell_type": "code",
   "execution_count": null,
   "metadata": {},
   "outputs": [],
   "source": [
    "#Niños: distribución\n",
    "#Valor típico:mode: 2 años\n",
    "#Distribución trimodal, con peaks en 2,4, y 9 años como los más frecuentes valores\n",
    "#Valores dispersos\n"
   ]
  },
  {
   "cell_type": "code",
   "execution_count": null,
   "metadata": {},
   "outputs": [],
   "source": [
    "#2. DISCRETE FEATURES\n",
    "#num_discrete = ['PassengerId', 'Survived', 'Pclass', 'SibSp','Parch']\n",
    "\n",
    "#Here I can use the countplot (barplot) to check the distribution\n",
    "\n",
    "#SURVIVED\n",
    "g = sns.countplot(x= \"Survived\" ,data= train)\n",
    "plt.title(\"{}: {}% survived\".format(\"Survived\", np.round(train[train.Survived == 1].shape[0]/ train.shape[0], 2)))\n",
    "\n",
    "    "
   ]
  },
  {
   "cell_type": "code",
   "execution_count": null,
   "metadata": {},
   "outputs": [],
   "source": [
    "#Pclass\n",
    "g = sns.countplot(x= \"Pclass\" ,data= train)\n",
    "train.Pclass.value_counts(normalize = True)"
   ]
  },
  {
   "cell_type": "code",
   "execution_count": null,
   "metadata": {},
   "outputs": [],
   "source": [
    "#Mas de la mitad de la gente estaba en la 3ra clase\n",
    "\n",
    "\n",
    "#SibSp\n",
    "g = sns.countplot(x= \"SibSp\" ,data= train)\n",
    "train.SibSp.value_counts(normalize = True)"
   ]
  },
  {
   "cell_type": "code",
   "execution_count": null,
   "metadata": {},
   "outputs": [],
   "source": [
    "#La mayoria de la gente (91%) viajaba sin esposas/hermanos o a lo más declaraba 1"
   ]
  },
  {
   "cell_type": "code",
   "execution_count": null,
   "metadata": {},
   "outputs": [],
   "source": [
    "#Parch\n",
    "#Parch\n",
    "g = sns.countplot(x= \"Parch\" ,data= train)\n",
    "train.Parch.value_counts(normalize = True)"
   ]
  },
  {
   "cell_type": "code",
   "execution_count": null,
   "metadata": {},
   "outputs": [],
   "source": [
    "#Mayoritariamente vemos viajando gente con a lo más 1 padre/niño (76% declara 0)"
   ]
  },
  {
   "cell_type": "code",
   "execution_count": null,
   "metadata": {},
   "outputs": [],
   "source": [
    "##Importante: vemos que podría establecerse una categoría GRUPO FAMILIAR = Persona + Sibsp + Parch para cada pasajero"
   ]
  },
  {
   "cell_type": "code",
   "execution_count": null,
   "metadata": {},
   "outputs": [],
   "source": [
    "t2 = train.copy()\n",
    "t2[\"Family\"] = t2[\"Parch\"] * t2[\"SibSp\"] \n",
    "data_summary(df = t2.select_dtypes(include = \"number\"), target = \"Survived\")"
   ]
  },
  {
   "cell_type": "code",
   "execution_count": null,
   "metadata": {},
   "outputs": [],
   "source": [
    "#En principio la correlación obtenida con target no es mejor que la de Parch"
   ]
  },
  {
   "cell_type": "code",
   "execution_count": null,
   "metadata": {},
   "outputs": [],
   "source": [
    "#Revisemos el resto de las variables, que son categoricas\n",
    "\n",
    "categ_nominal = ['Sex', \"Name\",'Ticket', 'Cabin', 'Embarked']"
   ]
  },
  {
   "cell_type": "code",
   "execution_count": null,
   "metadata": {},
   "outputs": [],
   "source": [
    "#Sex\n",
    "g = sns.countplot(x= \"Sex\" ,data= train)\n",
    "train.Sex.value_counts(normalize = True)"
   ]
  },
  {
   "cell_type": "code",
   "execution_count": null,
   "metadata": {},
   "outputs": [],
   "source": [
    "# 2/3 de los pasajeros eran de sexo masculino"
   ]
  },
  {
   "cell_type": "code",
   "execution_count": null,
   "metadata": {},
   "outputs": [],
   "source": [
    "#Embarked\n",
    "g = sns.countplot(x= \"Embarked\" ,data= train)\n",
    "train.Embarked.value_counts(normalize = True)"
   ]
  },
  {
   "cell_type": "code",
   "execution_count": null,
   "metadata": {},
   "outputs": [],
   "source": [
    "# Más del 72% de la gente se embarcó desde S"
   ]
  },
  {
   "cell_type": "code",
   "execution_count": null,
   "metadata": {
    "scrolled": false
   },
   "outputs": [],
   "source": [
    "#Cabin, ticket y name los dejaré para revisarlos más adelante\n"
   ]
  },
  {
   "cell_type": "code",
   "execution_count": null,
   "metadata": {
    "scrolled": true
   },
   "outputs": [],
   "source": [
    "#RESUMEN OBSERVACIONES UNIVARIATE ANALYSIS\n",
    "\n",
    "#We see outliers in Age and Fare, that are worthwhile to check and see if they can be treated\n",
    "##Mayoritariamente vemos viajando gente con a lo más 1 padre/niño (76% declara 0) (Parch)\n",
    "##Importante: vemos que podría establecerse una categoría GRUPO FAMILIAR = Persona + Sibsp + Parch para cada pasajero\n",
    "#Mas de la mitad de la gente estaba en la 3ra clase\n",
    "#Distribución trimodal DE NIÑOS, con peaks en 2,4, y 9 años como los más frecuentes valores\n",
    "# 2/3 de los pasajeros eran de sexo masculino\n",
    "# Más del 72% de la gente se embarcó desde S\n",
    "#Edad típica de hombres menor que mujeres y con mayor dispersión (0-80 versus 0-65 aprox)\n",
    "\n",
    "\n"
   ]
  },
  {
   "cell_type": "code",
   "execution_count": null,
   "metadata": {},
   "outputs": [],
   "source": [
    "#BIVARIATE ANALYSIS: Check the relationships of the features with the target variable\n",
    "\n",
    "#Summary:\n",
    "num_discrete = ['PassengerId', 'Survived', 'Pclass', 'SibSp',\n",
    "       'Parch']\n",
    "num_continuous = ['Age',  'Fare']\n",
    "categ_nominal = ['Sex', \"Name\",'Ticket', 'Cabin', 'Embarked']"
   ]
  },
  {
   "cell_type": "code",
   "execution_count": null,
   "metadata": {},
   "outputs": [],
   "source": [
    "#SEX/SURVIVED\n",
    "\n",
    "#General view\n",
    "g = sns.countplot(x= \"Sex\" ,data= train, hue = \"Survived\")\n",
    "\n"
   ]
  },
  {
   "cell_type": "code",
   "execution_count": null,
   "metadata": {},
   "outputs": [],
   "source": [
    "train[(train.Sex == \"male\")].Survived.value_counts(normalize = True)\n"
   ]
  },
  {
   "cell_type": "code",
   "execution_count": null,
   "metadata": {},
   "outputs": [],
   "source": [
    "train[(train.Sex == \"female\")].Survived.value_counts(normalize = True)\n"
   ]
  },
  {
   "cell_type": "code",
   "execution_count": null,
   "metadata": {
    "scrolled": true
   },
   "outputs": [],
   "source": [
    "#Let´s look into the distribution of sex/survival/age\n",
    "survived = 'survived'\n",
    "not_survived = 'not survived'\n",
    "fig, axes = plt.subplots(nrows=2, ncols=1,figsize=(10, 15))\n",
    "women = train[train['Sex']=='female']\n",
    "men = train[train['Sex']=='male']\n",
    "ax = sns.distplot(women[women['Survived']==1].Age.dropna(), bins=18, label = survived, ax = axes[0], kde =False)\n",
    "ax = sns.distplot(women[women['Survived']==0].Age.dropna(), bins=40, label = not_survived, ax = axes[0], kde =False)\n",
    "ax.legend()\n",
    "ax.set_title('Female')\n",
    "ax = sns.distplot(men[men['Survived']==1].Age.dropna(), bins=18, label = survived, ax = axes[1], kde = False)\n",
    "ax = sns.distplot(men[men['Survived']==0].Age.dropna(), bins=50, label = not_survived, ax = axes[1], kde = False)\n",
    "ax.legend()\n",
    "_ = ax.set_title('Male')\n",
    "\n"
   ]
  },
  {
   "cell_type": "code",
   "execution_count": null,
   "metadata": {},
   "outputs": [],
   "source": [
    "print(women[women['Survived']==1].Age.mode()[0])\n"
   ]
  },
  {
   "cell_type": "code",
   "execution_count": null,
   "metadata": {},
   "outputs": [],
   "source": [
    "#Mujeres: mayor prob surv. entre 15 y 35 años. Mayor dispersión de edades de supervivientes que de fallecidos\n",
    "#Mujeres: fallecidas curva asimetrica con multiples valores tipicos, pero que no superan fecuencias de 5 en cada caso\n",
    "#Hombres: Fallecidos muestra curva right- skew con dispersión importante de edades. Mayor cantidad de fallecidos entre\n",
    "#los 17 y 35 años aproximadamente\n",
    "#Hombres sobrevivientes: Entre los 18 y 40 años mayor probabilidad de supervivencia, Entre 60 y 75 no hay chance (pero si en mujeres). \n",
    "#Hombres: valor típico de supervivencia niños 0-5 años\n",
    "\n",
    "#Puede ser interesante generar bins de edades para ver su correlación, ya que se ven claramente rangos másmenos expuestos"
   ]
  },
  {
   "cell_type": "code",
   "execution_count": null,
   "metadata": {
    "scrolled": false
   },
   "outputs": [],
   "source": [
    "##distribution of sex/survival/Embarked\n",
    "survived = 'survived'\n",
    "not_survived = 'not survived'\n",
    "# fig, axes = plt.subplots(nrows=4, ncols=1,figsize=(10, 15))\n",
    "women = train[train['Sex']=='female']\n",
    "men = train[train['Sex']=='male']\n",
    "\n",
    "g = sns.countplot(x= \"Embarked\",data= women[women['Survived']== 0])\n",
    "g.set_title(\"Women survived by Embarked\")\n",
    "plt.show()\n",
    "g = sns.countplot(x= \"Embarked\",data= women[women['Survived']== 1])\n",
    "g.set_title(\"Women not-survived by Embarked\")\n",
    "\n",
    "plt.show()\n",
    "g = sns.countplot(x= \"Embarked\",data= men[men['Survived']== 0])\n",
    "g.set_title(\"Men survived by Embarked\")\n",
    "\n",
    "plt.show()\n",
    "g = sns.countplot(x= \"Embarked\",data= men[men['Survived']== 1])\n",
    "g.set_title(\"Men not-survived by Embarked\")\n",
    "\n",
    "plt.show()\n",
    "\n",
    "\n",
    "\n"
   ]
  },
  {
   "cell_type": "code",
   "execution_count": null,
   "metadata": {},
   "outputs": [],
   "source": [
    "#Análisis porcentual de cada caso:\n",
    "#Se calcula que S = 31% mujeres fallecidas, Q = 25% y C = 12,3%\n",
    "women[women.Survived == 1].groupby([\"Embarked\"]).Survived.count() "
   ]
  },
  {
   "cell_type": "code",
   "execution_count": null,
   "metadata": {},
   "outputs": [],
   "source": [
    "#Análisis porcentual de cada caso:\n",
    "#Se calcula que S = 82,5% hombres fallecidos, Q = 92% y C = 69%\n",
    "men[men.Survived == 1].groupby([\"Embarked\"]).Survived.count() "
   ]
  },
  {
   "cell_type": "code",
   "execution_count": null,
   "metadata": {},
   "outputs": [],
   "source": [
    "#Notable es que el menor % de fallecidos tanto en hombres como mujeres se ve en los que se embarcaron en C. Por qué?\n",
    "\n",
    "#Podemos crear un feature = EMBARKED+ _+ SEX (correlación con target de -0.37)"
   ]
  },
  {
   "cell_type": "code",
   "execution_count": null,
   "metadata": {},
   "outputs": [],
   "source": [
    "#3.PCLASS\n",
    "#Veamos la distribución de edades de sobrevivientes/no sobrevivientes según Pclass \n",
    "\n",
    "grid = sns.FacetGrid(train, col='Survived', row='Pclass', size=5.5, aspect=1.6)\n",
    "grid.map(plt.hist, 'Age', alpha=.5, bins=20)\n",
    "grid.add_legend();\n",
    "\n",
    "\n",
    "##Se aprecia la mayor dispersión y cantidad de personas fallecidas en la 3ra clase"
   ]
  },
  {
   "cell_type": "code",
   "execution_count": null,
   "metadata": {},
   "outputs": [],
   "source": [
    "#cHECKING PCLASS, SEX, SURVIVED\n",
    "\n",
    "survived = 'survived'\n",
    "not_survived = 'not survived'\n",
    "fig, axes = plt.subplots(nrows=2, ncols=1,figsize=(10, 15))\n",
    "women = train[train['Sex']=='female']\n",
    "men = train[train['Sex']=='male']\n",
    "ax = sns.distplot(women[women['Survived']==1].Pclass.dropna(), bins=18, label = survived, ax = axes[0], kde =False)\n",
    "ax = sns.distplot(women[women['Survived']==0].Pclass.dropna(), bins=40, label = not_survived, ax = axes[0], kde =False)\n",
    "ax.legend()\n",
    "ax.set_title('Female')\n",
    "ax = sns.distplot(men[men['Survived']==1].Pclass.dropna(), bins=18, label = survived, ax = axes[1], kde = False)\n",
    "ax = sns.distplot(men[men['Survived']==0].Pclass.dropna(), bins=50, label = not_survived, ax = axes[1], kde = False)\n",
    "ax.legend()\n",
    "_ = ax.set_title('Male')\n"
   ]
  },
  {
   "cell_type": "code",
   "execution_count": null,
   "metadata": {},
   "outputs": [],
   "source": [
    "##Claramente las mayores pprobabilidades de supervivencia de mujeres son en 1ra y 2da clase. En 3ra es de 50%\n",
    "#La mayor probabilidad de fallecimiento de hombres está en 3ra clase \n",
    "\n",
    "#INTERESANTE CREAR UN NUEVO FEATURE PCLASS +\"_\"+SEX"
   ]
  },
  {
   "cell_type": "code",
   "execution_count": null,
   "metadata": {},
   "outputs": [],
   "source": [
    "#CODE FOR ENGINEERING A NEW CATEGORICAL FEATURE \n",
    "# t = train.copy()\n",
    "# t[\"port_sex\"] = t.Pclass.astype(\"str\") +\"_\"+ t.Sex.astype(\"str\")\n",
    "# t.port_sex = t.groupby([\"port_sex\"])[\"PassengerId\"].transform(\"count\")"
   ]
  },
  {
   "cell_type": "code",
   "execution_count": null,
   "metadata": {},
   "outputs": [],
   "source": [
    "df.columns"
   ]
  },
  {
   "cell_type": "code",
   "execution_count": null,
   "metadata": {},
   "outputs": [],
   "source": [
    "#Sex/Sibsp/Survived\n",
    "\n",
    "survived = 'survived'\n",
    "not_survived = 'not survived'\n",
    "fig, axes = plt.subplots(nrows=2, ncols=1,figsize=(10, 15))\n",
    "women = train[train['Sex']=='female']\n",
    "men = train[train['Sex']=='male']\n",
    "ax = sns.distplot(women[women['Survived']==1].SibSp.dropna(), bins=18, label = survived, ax = axes[0], kde =False)\n",
    "ax = sns.distplot(women[women['Survived']==0].SibSp.dropna(), bins=40, label = not_survived, ax = axes[0], kde =False)\n",
    "ax.legend()\n",
    "ax.set_title('Female')\n",
    "ax = sns.distplot(men[men['Survived']==1].SibSp.dropna(), bins=18, label = survived, ax = axes[1], kde = False)\n",
    "ax = sns.distplot(men[men['Survived']==0].SibSp.dropna(), bins=50, label = not_survived, ax = axes[1], kde = False)\n",
    "ax.legend()\n",
    "_ = ax.set_title('Male')"
   ]
  },
  {
   "cell_type": "code",
   "execution_count": null,
   "metadata": {},
   "outputs": [],
   "source": [
    "#Vemos que las mujeres con 0 ó 1 SibSp tienen mayores probabilidades de sobrevivir. A partir de 5 ya no lo logran\n",
    "#Igualmente los hombres, aunque con muchos menos sobrevivientes. Hay correlación aparente ahí\n",
    "#INTERESANTE CREAR UN NUEVO FEATURE CON SIBSP+SEX: tiene un corr de -0.35"
   ]
  },
  {
   "cell_type": "code",
   "execution_count": null,
   "metadata": {},
   "outputs": [],
   "source": [
    "t = train.copy()\n",
    "t[\"port_sex\"] = t.SibSp.astype(\"str\") +\"_\"+ t.Sex.astype(\"str\")\n",
    "t.port_sex = t.groupby([\"port_sex\"])[\"PassengerId\"].transform(\"count\")\n",
    "t.port_sex.corr(t.Survived)"
   ]
  },
  {
   "cell_type": "code",
   "execution_count": null,
   "metadata": {},
   "outputs": [],
   "source": [
    "#Agreguemos una variante estudiando un feature de familiy = Parch + SibSp\n",
    "t = train.copy()\n",
    "t[\"Family\"] = t[\"SibSp\"] + t[\"Parch\"]\n",
    "\n",
    "survived = 'survived'\n",
    "not_survived = 'not survived'\n",
    "fig, axes = plt.subplots(nrows=2, ncols=1,figsize=(10, 15))\n",
    "women = t[t['Sex']=='female']\n",
    "men = t[t['Sex']=='male']\n",
    "ax = sns.distplot(women[women['Survived']==1].Family.dropna(), bins=18, label = survived, ax = axes[0], kde =False)\n",
    "ax = sns.distplot(women[women['Survived']==0].Family.dropna(), bins=40, label = not_survived, ax = axes[0], kde =False)\n",
    "ax.legend()\n",
    "ax.set_title('Female')\n",
    "ax = sns.distplot(men[men['Survived']==1].Family.dropna(), bins=18, label = survived, ax = axes[1], kde = False)\n",
    "ax = sns.distplot(men[men['Survived']==0].Family.dropna(), bins=50, label = not_survived, ax = axes[1], kde = False)\n",
    "ax.legend()\n",
    "_ = ax.set_title('Male')"
   ]
  },
  {
   "cell_type": "code",
   "execution_count": null,
   "metadata": {},
   "outputs": [],
   "source": [
    "#Se repite la tendencia\n",
    "#INTERESANTE CREAR UN FEATURE FAMILY = SIBSP + PARCH"
   ]
  },
  {
   "cell_type": "code",
   "execution_count": null,
   "metadata": {},
   "outputs": [],
   "source": [
    "#Dropping passengerId, ya que no aporta \n",
    "# train.PassengerId.corr(train.Survived)"
   ]
  },
  {
   "cell_type": "code",
   "execution_count": null,
   "metadata": {},
   "outputs": [],
   "source": [
    "# train.drop(\"PassengerId\", axis =1, inplace = True)\n",
    "# test.drop(\"PassengerId\", axis =1, inplace = True)\n",
    "# df.drop(\"PassengerId\", axis =1, inplace = True)"
   ]
  },
  {
   "cell_type": "code",
   "execution_count": null,
   "metadata": {},
   "outputs": [],
   "source": [
    "##WORK WITH NULLS AND MISSING DATA\n",
    "nulls_summary(df)"
   ]
  },
  {
   "cell_type": "code",
   "execution_count": null,
   "metadata": {},
   "outputs": [],
   "source": [
    "#NULLS IN CABIN\n",
    "df.Cabin.unique()"
   ]
  },
  {
   "cell_type": "code",
   "execution_count": null,
   "metadata": {},
   "outputs": [],
   "source": [
    "##En el barco había 8 decks, cada uno con una letra . La cabina comenzaba por el deck correspondiente\n",
    "##Por eso es posible hacer un nuevo feature que asigne el deck correspondiente a cada persona\n",
    "#Se armará un feature llamado Deck, en base a la letra de cada deck, que luego se convierte en int\n",
    "#Los nan quedarán como 0\n",
    "\n",
    "import re\n",
    "deck = {\"A\": 1, \"B\": 2, \"C\": 3, \"D\": 4, \"E\": 5, \"F\": 6, \"G\": 7, \"U\": 8}\n",
    "df['Cabin'] = df['Cabin'].fillna(\"U\") #antes se rellenan los nan con U para que no molesten\n",
    "df['Deck'] = df['Cabin'].map(lambda x: re.compile(\"([a-zA-Z]+)\").search(x).group()) #extrae la letra del Cabin\n",
    "\n",
    "#Creo un feature que cuenta las ocurrencias de cada cabin por id\n",
    "df[\"countDeck\"] = df.groupby([\"Deck\"])[\"PassengerId\"].transform(\"count\")\n",
    "\n",
    "#Además tendremos el feat de mapeo numérico de Deck\n",
    "# df['Deck'] = df['Deck'].map(deck)\n",
    "# df['Deck'] = df['Deck'].fillna(0)\n",
    "# df['Deck'] = df['Deck'].astype(int)"
   ]
  },
  {
   "cell_type": "code",
   "execution_count": null,
   "metadata": {},
   "outputs": [],
   "source": [
    "df.head()"
   ]
  },
  {
   "cell_type": "code",
   "execution_count": null,
   "metadata": {},
   "outputs": [],
   "source": [
    "# df[df[\"Survived\"] !=-1].Deck.corr(df[df[\"Survived\"] !=-1].Survived) #igual sirve porque tiene buena correlación con target"
   ]
  },
  {
   "cell_type": "code",
   "execution_count": null,
   "metadata": {},
   "outputs": [],
   "source": [
    "#Se elimina Cabin y se actualizan df, train y test\n",
    "df.drop([\"Cabin\"], axis =1, inplace = True)\n",
    "train = df[df[\"Survived\"] !=-1]\n",
    "test = df[df[\"Survived\"] ==-1]"
   ]
  },
  {
   "cell_type": "code",
   "execution_count": null,
   "metadata": {},
   "outputs": [],
   "source": [
    "###NULLS IN AGE\n",
    "#Hay 263 nulls en total para el feature Age\n",
    "\n",
    "#TRUCO CHINO: Probaré un truco consistente en calcular el mean de Age del train set, el std delAge del test set y reemplazar\n",
    "#todos los valores nan de Age con números random generados a +- 1 std del mean\n",
    "#Nota:uso el mean como valor típico dado que Age tiene una distribución bastante simétrica (ver statistics with Jim)\n",
    "\n",
    "data = [train, test]\n",
    "\n",
    "for dataset in data:\n",
    "    mean = train.Age.mean()\n",
    "    std = test.Age.std()\n",
    "    nr_nulls = dataset.Age.isnull().sum() #nro de nulls de Age en cada set\n",
    "    #genero los nros random de enteros según la regla\n",
    "    rand_age = np.random.randint(mean-std, mean + std, size = nr_nulls)\n",
    "    #Fill de Nan\n",
    "    age_slice = dataset.Age.copy()\n",
    "    age_slice[np.isnan(age_slice)] = rand_age\n",
    "    dataset.Age = age_slice\n",
    "    dataset.Age = dataset.Age.astype(int)\n",
    "    \n",
    "        "
   ]
  },
  {
   "cell_type": "code",
   "execution_count": null,
   "metadata": {},
   "outputs": [],
   "source": [
    "#Vuelvo a unir train y test en df\n",
    "df = pd.concat([train, test], axis = 0).reset_index(drop = True)"
   ]
  },
  {
   "cell_type": "code",
   "execution_count": null,
   "metadata": {},
   "outputs": [],
   "source": [
    "df.isnull().sum()"
   ]
  },
  {
   "cell_type": "code",
   "execution_count": null,
   "metadata": {},
   "outputs": [],
   "source": [
    "#EMBARKED\n",
    "#Como embarked tiene solo 2 valores nan, hago fill con su valor tipico\n",
    "df.Embarked.value_counts()"
   ]
  },
  {
   "cell_type": "code",
   "execution_count": null,
   "metadata": {},
   "outputs": [],
   "source": [
    "df.Embarked = df.Embarked.fillna(\"S\")"
   ]
  },
  {
   "cell_type": "code",
   "execution_count": null,
   "metadata": {},
   "outputs": [],
   "source": [
    "#Fare\n",
    "#Segun Jim, dado que Fare tiene una distribución con skewed y es un dato continuo, reemplazo con la mediana\n",
    "df.Fare = df.Fare.fillna(df.Fare.median())"
   ]
  },
  {
   "cell_type": "code",
   "execution_count": null,
   "metadata": {},
   "outputs": [],
   "source": [
    "df.isnull().sum()"
   ]
  },
  {
   "cell_type": "code",
   "execution_count": null,
   "metadata": {},
   "outputs": [],
   "source": [
    "#Ahora que imputé todos los nulls, actualizo train y test\n",
    "train = df[df[\"Survived\"] !=-1]\n",
    "test = df[df[\"Survived\"] ==-1]"
   ]
  },
  {
   "cell_type": "code",
   "execution_count": null,
   "metadata": {},
   "outputs": [],
   "source": [
    "#OUTLIERS!!!!!\n",
    "#Treebased models are robust to outliers, so we won´t them in this project\n",
    "#Source: https://www.quora.com/Why-are-tree-based-models-robust-to-outliers\n"
   ]
  },
  {
   "cell_type": "code",
   "execution_count": null,
   "metadata": {},
   "outputs": [],
   "source": [
    "##CONVERT AND ENCODE DATA "
   ]
  },
  {
   "cell_type": "code",
   "execution_count": null,
   "metadata": {},
   "outputs": [],
   "source": [
    "df.info()"
   ]
  },
  {
   "cell_type": "code",
   "execution_count": null,
   "metadata": {},
   "outputs": [],
   "source": [
    "##CUANDO USAR LabelEncoding:\n",
    "#De acuerdo al libro de Abishek, se puede usar en todos los Tree based models (dt, rf, extra trees) o bien\n",
    "# en todos los boosted trees models (xgboost, GBM, lightGBM)\n",
    "#NO USAR EN LINEAR MODELS, SVM O EN NN, DADO QUE ELLOS NECESITAN CONSUMIR LOS DATOS NORMALIZADOS O ESTANDARIZADOS"
   ]
  },
  {
   "cell_type": "code",
   "execution_count": null,
   "metadata": {},
   "outputs": [],
   "source": [
    "#Como acá vamos a trabajar con tree-based y boosted trees, así que podemos usar el LabelEncoding sin problemas"
   ]
  },
  {
   "cell_type": "code",
   "execution_count": null,
   "metadata": {},
   "outputs": [],
   "source": [
    "##CONVERTIR DATA TYPES Y ENCODING\n",
    "#Convert Fare from float to int\n",
    "df.Fare = df.Fare.astype(\"int\")\n"
   ]
  },
  {
   "cell_type": "code",
   "execution_count": null,
   "metadata": {},
   "outputs": [],
   "source": [
    "#Convert Sex\n",
    "# dict = {\"male\": 0, \"female\":1}\n",
    "\n",
    "# df.Sex =  df.Sex.map(dict)"
   ]
  },
  {
   "cell_type": "code",
   "execution_count": null,
   "metadata": {},
   "outputs": [],
   "source": [
    "#Convert Embarked\n",
    "#Usaremos label encoding\n",
    "# dict = {\"S\": 0, \"C\": 1, \"Q\": 2}\n",
    "\n",
    "# df.Embarked =  df.Embarked.map(dict)\n"
   ]
  },
  {
   "cell_type": "code",
   "execution_count": null,
   "metadata": {},
   "outputs": [],
   "source": [
    "df.head()"
   ]
  },
  {
   "cell_type": "code",
   "execution_count": null,
   "metadata": {},
   "outputs": [],
   "source": [
    "#Ticket\n",
    "df.Ticket.value_counts(normalize= True)"
   ]
  },
  {
   "cell_type": "code",
   "execution_count": null,
   "metadata": {},
   "outputs": [],
   "source": [
    "#Hay demasiados valores unicos como para que valga la pena convertirlos,d e manera que los eliminamos\n",
    "ticket_backup = df.Ticket #respaldo\n",
    "df.drop([\"Ticket\"], axis =1, inplace = True)"
   ]
  },
  {
   "cell_type": "code",
   "execution_count": null,
   "metadata": {},
   "outputs": [],
   "source": [
    "df.head()"
   ]
  },
  {
   "cell_type": "code",
   "execution_count": null,
   "metadata": {},
   "outputs": [],
   "source": [
    "#Name\n",
    "#Se crea un nuevo feature llamado title, extrayendo los títulos de cada pasajero y transformándolos encategorías\n",
    "#Luego se mapea cada categoría con un int para transformarla en numérica con LabelEncoding\n",
    "\n",
    "\n",
    "df[\"Title\"] = df.Name.str.extract(' ([A-Za-z]+)\\.', expand=False)# extraen los str que terminen en un punto\n",
    "#Reemplazo los menor frecuentes con un \"Rare\"\n",
    "df.Title = df.Title.replace(['Lady', 'Countess','Capt', 'Col','Don', 'Dr',\\\n",
    "                                            'Major', 'Rev', 'Sir', 'Jonkheer', 'Dona'], 'Rare')\n",
    "#Ajusto y reemplazo mme, ms, me con Miss y Mrs\n",
    "df.Title = df.Title.replace([\"Ms\", \"Mlle\"], \"Miss\")\n",
    "df.Title = df.Title.replace(\"Mme\", \"Mrs\")\n",
    "\n",
    "df.to_csv(\"titanic.csv\")\n",
    "\n",
    "# #Mapeamos para hacer un LabelEncoding\n",
    "# dict = {'Mr':1, 'Miss':2,'Mrs':3,  'Master':4, 'Rare':5}\n",
    "# df.Title = df.Title.map(dict)\n",
    "# #Por si acaso se rellena cualquier nan con 0\n",
    "# df.Title = df.Title.fillna(0)\n",
    "\n",
    "#Ahora elimino Name\n",
    "df.drop(\"Name\", axis = 1, inplace = True)\n",
    "#Actualizo train y test\n",
    "train = df[df[\"Survived\"] !=-1]\n",
    "test = df[df[\"Survived\"] ==-1]\n"
   ]
  },
  {
   "cell_type": "code",
   "execution_count": null,
   "metadata": {},
   "outputs": [],
   "source": [
    "\n",
    "df.head()"
   ]
  },
  {
   "cell_type": "code",
   "execution_count": null,
   "metadata": {},
   "outputs": [],
   "source": [
    "df.isnull().sum()"
   ]
  },
  {
   "cell_type": "code",
   "execution_count": null,
   "metadata": {},
   "outputs": [],
   "source": [
    "#Hagamos un primer test del output del EDA\n",
    "# train.to_csv(\"../input/train_1.csv\", index = False)"
   ]
  },
  {
   "cell_type": "code",
   "execution_count": null,
   "metadata": {},
   "outputs": [],
   "source": [
    "train.head()"
   ]
  },
  {
   "cell_type": "code",
   "execution_count": null,
   "metadata": {},
   "outputs": [],
   "source": [
    "df.loc[:, \"Survived\"].values"
   ]
  },
  {
   "cell_type": "code",
   "execution_count": null,
   "metadata": {},
   "outputs": [],
   "source": []
  },
  {
   "cell_type": "code",
   "execution_count": null,
   "metadata": {},
   "outputs": [],
   "source": [
    "###FEATURE ENGINEERING\n",
    "#LAB EXPERIMENT: WE WILL CREATE AS MUCH FEATURES AS WE CAN AND LET DE EATURE IMPORTANCE DECIDE which ones are the best\n",
    "##NEW FEATURES:\n",
    "# GRUPO FAMILIAR = Persona + Sibsp + Parch para cada pasajero\n",
    "# #Podemos crear un feature = EMBARKED+ _+ SEX (correlación con target de -0.37)\n",
    "# #INTERESANTE CREAR UN NUEVO FEATURE PCLASS +\"_\"+SEX\n",
    "# INTERESANTE CREAR UN NUEVO FEATURE CON SIBSP+SEX: tiene un corr de -0.35\n"
   ]
  },
  {
   "cell_type": "code",
   "execution_count": null,
   "metadata": {},
   "outputs": [],
   "source": [
    "#1. Family\n",
    "df.Family = 1 + df.SibSp + df.Parch"
   ]
  },
  {
   "cell_type": "code",
   "execution_count": null,
   "metadata": {},
   "outputs": [],
   "source": [
    "#SibSp+Sex (usamos la técnica de Abishek: unimos primero como caregoricas, luego sacamos sus frcuencias y a cada\n",
    "#una se le asigna la frecuencia)\n",
    "df[\"port_sex\"] = df.SibSp.astype(\"str\") +\"_\"+ df.Sex.astype(\"str\")\n",
    "df.port_sex = df.groupby([\"port_sex\"])[\"Deck\"].transform(\"count\")\n"
   ]
  },
  {
   "cell_type": "code",
   "execution_count": null,
   "metadata": {},
   "outputs": [],
   "source": [
    "#Pclass+Sex (usamos la técnica de Abishek: unimos primero como caregoricas, luego sacamos sus frcuencias y a cada\n",
    "#una se le asigna la frecuencia)\n",
    "df[\"port_sex\"] = df.Pclass.astype(\"str\") +\"_\"+ df.Sex.astype(\"str\")\n",
    "df.port_sex = df.groupby([\"port_sex\"])[\"Deck\"].transform(\"count\")\n"
   ]
  },
  {
   "cell_type": "code",
   "execution_count": null,
   "metadata": {},
   "outputs": [],
   "source": [
    "#Embarked+Sex (usamos la técnica de Abishek: unimos primero como caregoricas, luego sacamos sus frcuencias y a cada\n",
    "#una se le asigna la frecuencia)\n",
    "df[\"port_sex\"] = df.Embarked.astype(\"str\") +\"_\"+ df.Sex.astype(\"str\")\n",
    "df.port_sex = df.groupby([\"port_sex\"])[\"Deck\"].transform(\"count\")\n"
   ]
  },
  {
   "cell_type": "code",
   "execution_count": null,
   "metadata": {},
   "outputs": [],
   "source": [
    "#Otros features:"
   ]
  },
  {
   "cell_type": "code",
   "execution_count": null,
   "metadata": {},
   "outputs": [],
   "source": [
    "#Age*Pclass\n",
    "df.AgeClass = df.Age * df.Pclass\n"
   ]
  },
  {
   "cell_type": "code",
   "execution_count": null,
   "metadata": {},
   "outputs": [],
   "source": [
    "df.head()"
   ]
  },
  {
   "cell_type": "code",
   "execution_count": null,
   "metadata": {},
   "outputs": [],
   "source": [
    "#Actualizo los datasets\n",
    "train = df[df[\"Survived\"] !=-1]\n",
    "test = df[df[\"Survived\"] ==-1]"
   ]
  },
  {
   "cell_type": "code",
   "execution_count": null,
   "metadata": {},
   "outputs": [],
   "source": [
    "%store train\n",
    "%store test"
   ]
  },
  {
   "cell_type": "code",
   "execution_count": null,
   "metadata": {},
   "outputs": [],
   "source": [
    "##Let´s check...\n",
    "#Hasta el momento (14/11): mejor accuracy 0.78947 usando GradientBoosting y los features. Lugar 1.600\n",
    "train.columns"
   ]
  },
  {
   "cell_type": "code",
   "execution_count": null,
   "metadata": {},
   "outputs": [],
   "source": [
    "#Nexto to work on: Ensemble learning and new features"
   ]
  },
  {
   "cell_type": "code",
   "execution_count": null,
   "metadata": {},
   "outputs": [],
   "source": [
    "int(0.65 + 0.1)"
   ]
  },
  {
   "cell_type": "code",
   "execution_count": null,
   "metadata": {},
   "outputs": [],
   "source": [
    "df.Survived.mean()"
   ]
  },
  {
   "cell_type": "code",
   "execution_count": null,
   "metadata": {},
   "outputs": [],
   "source": [
    "# NEW FEATURES (22/11/2020)\n",
    "#url: https://www.kaggle.com/gunesevitan/titanic-advanced-feature-engineering-tutorial"
   ]
  },
  {
   "cell_type": "code",
   "execution_count": null,
   "metadata": {},
   "outputs": [],
   "source": [
    "df.head()"
   ]
  },
  {
   "cell_type": "code",
   "execution_count": null,
   "metadata": {},
   "outputs": [],
   "source": [
    "new_feats= df.copy()"
   ]
  },
  {
   "cell_type": "code",
   "execution_count": null,
   "metadata": {},
   "outputs": [],
   "source": [
    "#FARE binning\n",
    "#Convertir a bins los rangos de fare\n",
    "new_feats['rank'] = new_feats['Fare'].rank(method='first')\n",
    "\n",
    "new_feats['Fare'] = pd.qcut(new_feats[\"rank\"].values, 13).codes"
   ]
  },
  {
   "cell_type": "code",
   "execution_count": null,
   "metadata": {},
   "outputs": [],
   "source": [
    "new_feats.drop(\"rank\", axis = 1, inplace = True)"
   ]
  },
  {
   "cell_type": "code",
   "execution_count": null,
   "metadata": {},
   "outputs": [],
   "source": [
    "##AGE BINNING\n",
    "new_feats['rank'] = new_feats['Age'].rank(method='first')\n",
    "new_feats['Age_bin'] = pd.qcut(new_feats[\"rank\"].values, 10).codes\n",
    "new_feats.drop(\"rank\", axis = 1, inplace = True)\n",
    "\n"
   ]
  },
  {
   "cell_type": "code",
   "execution_count": null,
   "metadata": {},
   "outputs": [],
   "source": [
    "##Family size\n",
    "new_feats[\"FamilySize\"] = 1 + new_feats.SibSp + new_feats.Parch\n",
    "\n",
    "#Family Size with 1 are labeled as Alone\n",
    "#Family Size with 2, 3 and 4 are labeled as Small\n",
    "#Family Size with 5 and 6 are labeled as Medium\n",
    "#Family Size with 7, 8 and 11 are labeled as Large\n",
    "\n",
    "\n",
    "def assign(s):\n",
    "    if s ==1:\n",
    "        s = \"Alone\"\n",
    "    elif 2<= s <=4:\n",
    "        s = \"Small\"\n",
    "    elif 5<= s <= 6:\n",
    "        s= \"Medium\"\n",
    "    elif 7<= s <= 11:\n",
    "        s =\"Large\"\n",
    "    return s\n",
    "        \n",
    "\n",
    "\n",
    "new_feats.FamilySize = new_feats.FamilySize.apply(assign)\n"
   ]
  },
  {
   "cell_type": "code",
   "execution_count": null,
   "metadata": {},
   "outputs": [],
   "source": [
    "#Le aplico el método de Abihsek para que se convierta en frecuencias\n",
    "\n",
    "new_feats[\"Count_FamilySize\"] = new_feats.groupby([\"FamilySize\"])[\"Deck\"].transform(\"count\")"
   ]
  },
  {
   "cell_type": "code",
   "execution_count": null,
   "metadata": {},
   "outputs": [],
   "source": [
    "new_feats.head()"
   ]
  },
  {
   "cell_type": "code",
   "execution_count": null,
   "metadata": {},
   "outputs": [],
   "source": [
    "new_feats.info()"
   ]
  },
  {
   "cell_type": "code",
   "execution_count": null,
   "metadata": {},
   "outputs": [],
   "source": [
    "new_feats.head()"
   ]
  },
  {
   "cell_type": "code",
   "execution_count": null,
   "metadata": {},
   "outputs": [],
   "source": [
    "###Ticket frquency\n",
    "new_feats[\"Ticket\"] = ticket_backup\n",
    "new_feats[\"Ticket_freq\"] = new_feats.groupby(\"Ticket\")[\"Ticket\"].transform(\"count\")"
   ]
  },
  {
   "cell_type": "code",
   "execution_count": null,
   "metadata": {},
   "outputs": [],
   "source": [
    "new_feats.Ticket_freq"
   ]
  },
  {
   "cell_type": "code",
   "execution_count": null,
   "metadata": {},
   "outputs": [],
   "source": [
    "new_feats.columns"
   ]
  },
  {
   "cell_type": "code",
   "execution_count": null,
   "metadata": {},
   "outputs": [],
   "source": [
    "new_feats = new_feats[['Age_bin', 'FamilySize', 'Ticket_freq']] ##version final new feats"
   ]
  },
  {
   "cell_type": "code",
   "execution_count": null,
   "metadata": {},
   "outputs": [],
   "source": [
    "#Concatenar y crear nuevo datset \n",
    "df2 = pd.concat((df,new_feats), axis = 1)\n",
    "df2.drop(\"Age\", axis = 1, inplace = True)"
   ]
  },
  {
   "cell_type": "code",
   "execution_count": null,
   "metadata": {},
   "outputs": [],
   "source": [
    "df2.head()"
   ]
  },
  {
   "cell_type": "code",
   "execution_count": null,
   "metadata": {},
   "outputs": [],
   "source": [
    "#Remove duplicated columns\n",
    "df2 = df2.loc[:,~df2.columns.duplicated()]"
   ]
  },
  {
   "cell_type": "code",
   "execution_count": null,
   "metadata": {},
   "outputs": [],
   "source": [
    "##Nuevos train y test\n",
    "train2 = df2[df2.Survived!= -1]\n",
    "test2 = df2[df2.Survived == -1]\n",
    "# test2.drop(\"Survived\", axis = 1, inplace = True)\n",
    "# df2.drop(\"Survived\", axis = 1, inplace = True) #Dejo el df2 sin el target para procesar todo"
   ]
  },
  {
   "cell_type": "code",
   "execution_count": null,
   "metadata": {},
   "outputs": [],
   "source": [
    "a = df2[[\"PassengerId\", \"Parch\", \"Sex\"]]"
   ]
  },
  {
   "cell_type": "code",
   "execution_count": null,
   "metadata": {},
   "outputs": [],
   "source": [
    "y = a.pop(\"Sex\")\n",
    "y.name"
   ]
  },
  {
   "cell_type": "code",
   "execution_count": null,
   "metadata": {},
   "outputs": [],
   "source": [
    "a.columns"
   ]
  },
  {
   "cell_type": "code",
   "execution_count": null,
   "metadata": {},
   "outputs": [],
   "source": [
    "b = "
   ]
  },
  {
   "cell_type": "code",
   "execution_count": null,
   "metadata": {},
   "outputs": [],
   "source": [
    "##Save the data for using in pipeline Framework\n",
    "df2.to_csv(\"titanic_total.csv\", index = False)\n",
    "train2.to_csv(\"titanic_train.csv\", index = False)\n",
    "test2.to_csv(\"titanic_test.csv\", index = False)\n"
   ]
  },
  {
   "cell_type": "code",
   "execution_count": null,
   "metadata": {},
   "outputs": [],
   "source": [
    "df2.head()"
   ]
  },
  {
   "cell_type": "code",
   "execution_count": null,
   "metadata": {},
   "outputs": [],
   "source": [
    "for i in range(1):\n",
    "    print(i)"
   ]
  },
  {
   "cell_type": "code",
   "execution_count": null,
   "metadata": {},
   "outputs": [],
   "source": [
    "####FEAT IMPORTANCE ORIGINAL\n",
    "from sklearn.model_selection import GridSearchCV, cross_val_score, StratifiedKFold, learning_curve\n",
    "import matplotlib.pyplot as plt\n",
    "import seaborn as sns\n",
    "import warnings\n",
    "import pandas as pd \n",
    "import numpy as np\n",
    "\n",
    "import config\n",
    "import os\n",
    "import joblib \n",
    "import glob\n",
    "\n",
    "import yellowbrick\n",
    "from yellowbrick.model_selection import FeatureImportances\n",
    "\n",
    "\n",
    "##FEATURE IMPORTANCE\n",
    "\n",
    "def feat_importance(all_files, X_train, y_train):\n",
    "    # nrows = 3\n",
    "    # ncols = 1\n",
    "    # fig, axes = plt.subplots(nrows = nrows, ncols = ncols, sharex=\"all\", figsize=(15,15))\n",
    "        names_classifiers = []\n",
    "        nclassifier = 0\n",
    "        # all_files = glob.glob(\"../models\" + \"/*.bin\")\n",
    "        for filename in all_files:\n",
    "                model = joblib.load(filename)\n",
    "                names_classifiers.append((filename, model.best_estimator_))\n",
    "\n",
    "        for name, model in names_classifiers:\n",
    "            viz = FeatureImportances(model)\n",
    "            viz.fit(X_train, y_train)\n",
    "            viz.show()\n",
    "\n",
    "\n",
    "    # for row in range(nrows):\n",
    "    #     print(row)\n",
    "    #     for col in range(ncols):\n",
    "    #         print(\"Col:\", col)\n",
    "    #         name = names_classifiers[nclassifier][0]\n",
    "    #         classifier = names_classifiers[nclassifier][1]\n",
    "    #         indices = np.argsort(classifier.feature_importances_)[::-1][:40]\n",
    "    #         g = sns.barplot(y=X_train.columns[indices][:40], \n",
    "    #         x = classifier.feature_importances_[indices][:40] , \n",
    "    #         orient='h',ax=axes[row][col])\n",
    "    #         g.set_xlabel(\"Relative importance\",fontsize=12)\n",
    "    #         g.set_ylabel(\"Features\",fontsize=12)\n",
    "    #         g.tick_params(labelsize=9)\n",
    "    #         g.set_title(name + \" feature importance\")\n",
    "    #         nclassifier += 1\n",
    "    #         print(\"ready col\", col)\n",
    "    # plt.show()\n",
    "\n",
    "\n",
    "\n",
    "if __name__ == \"__main__\":\n",
    "    \n",
    "    df = pd.read_csv(config.DF)\n",
    "    target = config.TARGET\n",
    "    num_folds = config.FOLDS\n",
    "    kfold = StratifiedKFold(n_splits = num_folds)\n",
    "    seed = config.SEED\n",
    "    X_train =  pd.read_csv(\"../input/X_train.csv\")\n",
    "    y_train =  pd.read_csv(\"../input/y_train.csv\").values.ravel()\n",
    "    scoring = config.SCORING\n",
    "    all_files = glob.glob(\"../models/bestModels\" + \"/*.bin\")\n",
    "    feat_importance(all_files, X_train, y_train)\n",
    "\n",
    "    \n",
    "    #"
   ]
  },
  {
   "cell_type": "code",
   "execution_count": null,
   "metadata": {},
   "outputs": [],
   "source": [
    " from sklearn import svm, datasets\n",
    " from sklearn.model_selection import GridSearchCV\n",
    "\n",
    "\n",
    " iris = datasets.load_iris()\n",
    " parameters = {'kernel':('linear', 'rbf'), 'C':[1, 10]}\n",
    " svc = svm.SVC()\n",
    " clf = GridSearchCV(svc, parameters)\n",
    " clf.fit(iris.data, iris.target)\n",
    "gs = GridSearchCV(estimator=svc,\n",
    "             param_grid={'C': [1, 10], 'kernel': ('linear', 'rbf')})\n",
    " sorted(clf.cv_results_.keys())\n"
   ]
  },
  {
   "cell_type": "code",
   "execution_count": null,
   "metadata": {},
   "outputs": [],
   "source": [
    "print(gs.std_test_score)"
   ]
  },
  {
   "cell_type": "code",
   "execution_count": null,
   "metadata": {},
   "outputs": [],
   "source": [
    "clf.cv_results_"
   ]
  },
  {
   "cell_type": "code",
   "execution_count": null,
   "metadata": {},
   "outputs": [],
   "source": [
    "clf.cv_results_[\"std_test_score\"].mean()"
   ]
  },
  {
   "cell_type": "code",
   "execution_count": 92,
   "metadata": {},
   "outputs": [],
   "source": [
    "import xgboost"
   ]
  },
  {
   "cell_type": "code",
   "execution_count": null,
   "metadata": {},
   "outputs": [],
   "source": []
  }
 ],
 "metadata": {
  "kernelspec": {
   "display_name": "Python 3",
   "language": "python",
   "name": "python3"
  },
  "language_info": {
   "codemirror_mode": {
    "name": "ipython",
    "version": 3
   },
   "file_extension": ".py",
   "mimetype": "text/x-python",
   "name": "python",
   "nbconvert_exporter": "python",
   "pygments_lexer": "ipython3",
   "version": "3.7.7"
  },
  "toc": {
   "base_numbering": 1,
   "nav_menu": {},
   "number_sections": true,
   "sideBar": true,
   "skip_h1_title": false,
   "title_cell": "Table of Contents",
   "title_sidebar": "Contents",
   "toc_cell": false,
   "toc_position": {},
   "toc_section_display": true,
   "toc_window_display": false
  }
 },
 "nbformat": 4,
 "nbformat_minor": 4
}
